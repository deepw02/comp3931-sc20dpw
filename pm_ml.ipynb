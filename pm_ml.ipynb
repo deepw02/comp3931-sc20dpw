{
  "nbformat": 4,
  "nbformat_minor": 0,
  "metadata": {
    "colab": {
      "provenance": [],
      "authorship_tag": "ABX9TyNkDyD+4AO+gv28R9MrZJBo",
      "include_colab_link": true
    },
    "kernelspec": {
      "name": "python3",
      "display_name": "Python 3"
    },
    "language_info": {
      "name": "python"
    }
  },
  "cells": [
    {
      "cell_type": "markdown",
      "metadata": {
        "id": "view-in-github",
        "colab_type": "text"
      },
      "source": [
        "<a href=\"https://colab.research.google.com/github/deepw02/comp3931-sc20dpw/blob/main/pm_ml.ipynb\" target=\"_parent\"><img src=\"https://colab.research.google.com/assets/colab-badge.svg\" alt=\"Open In Colab\"/></a>"
      ]
    },
    {
      "cell_type": "markdown",
      "source": [
        "# Process Mining/Machine Learning to Predict Diagnosis ICD codes\n"
      ],
      "metadata": {
        "id": "NZ8XnWN9-HcO"
      }
    },
    {
      "cell_type": "markdown",
      "source": [
        "### Authenticating & Connecting to dataset"
      ],
      "metadata": {
        "id": "A-OFtd7z_Oj8"
      }
    },
    {
      "cell_type": "code",
      "execution_count": null,
      "metadata": {
        "id": "ZCWeSi3W9zOX"
      },
      "outputs": [],
      "source": [
        "from google.colab import auth\n",
        "from google.cloud import bigquery\n",
        "import pandas as pd\n",
        "\n",
        "auth.authenticate_user()\n",
        "client = bigquery.Client(project='physionet-data-369222')"
      ]
    },
    {
      "cell_type": "markdown",
      "source": [
        "### Function Definitions"
      ],
      "metadata": {
        "id": "-xI1Ry7Ub8Xp"
      }
    },
    {
      "cell_type": "code",
      "source": [
        "# Function to filter out records where age > 100 during admission\n",
        "\n",
        "def filter_age(df):\n",
        "\n",
        "  filter_age_query = (f'''\n",
        "    SELECT\n",
        "      hadm_id\n",
        "    FROM\n",
        "      physionet-data.mimiciii_clinical.admissions,\n",
        "      physionet-data.mimiciii_clinical.patients\n",
        "    WHERE\n",
        "      admissions.subject_id = patients.subject_id AND\n",
        "      hadm_id in {tuple(df.hadm_id.tolist())} AND\n",
        "      DATE_DIFF(admittime, dob, year) <= 100\n",
        "  ''')\n",
        "\n",
        "  result = client.query(filter_age_query).to_dataframe()\n",
        "\n",
        "  return df[df.hadm_id.isin(result.hadm_id)]"
      ],
      "metadata": {
        "id": "Ugm2oHJrmZpI"
      },
      "execution_count": null,
      "outputs": []
    },
    {
      "cell_type": "code",
      "source": [
        "# Function to filter out records that have don't include any procedures\n",
        "\n",
        "def filter_procedures(df):\n",
        "   \n",
        "  filter_procedures_query = (f'''\n",
        "    SELECT\n",
        "      hadm_id\n",
        "    FROM\n",
        "      physionet-data.mimiciii_clinical.procedureevents_mv\n",
        "    WHERE\n",
        "      hadm_id in {tuple(df.hadm_id.tolist())}\n",
        "    GROUP BY\n",
        "      hadm_id\n",
        "  ''')\n",
        "  \n",
        "  result = client.query(filter_procedures_query).to_dataframe()\n",
        "\n",
        "  return df[df.hadm_id.isin(result.hadm_id)]"
      ],
      "metadata": {
        "id": "LBMUvjRacQkZ"
      },
      "execution_count": null,
      "outputs": []
    },
    {
      "cell_type": "markdown",
      "source": [
        "### Event Log Creation"
      ],
      "metadata": {
        "id": "QnAAARhckp9x"
      }
    },
    {
      "cell_type": "code",
      "source": [
        "# Extracting subject_id, hadm_id & ICD-9 codes of cardiovascular patients\n",
        "\n",
        "cardiovascular_query = ('''\n",
        "  SELECT\n",
        "    hadm_id,\n",
        "    subject_id,\n",
        "    icd9_code\n",
        "  FROM\n",
        "    physionet-data.mimiciii_clinical.diagnoses_icd\n",
        "  WHERE\n",
        "    icd9_code BETWEEN '390%' AND '459%' AND\n",
        "    seq_num = 1\n",
        "''')\n",
        "\n",
        "cardiovascular = client.query(cardiovascular_query).to_dataframe()"
      ],
      "metadata": {
        "id": "TvMjPhXakumJ"
      },
      "execution_count": null,
      "outputs": []
    },
    {
      "cell_type": "code",
      "source": [
        "# Filter cardiovascular patient records\n",
        "\n",
        "# Remove records with abnormal ages\n",
        "filtered_cardiovascular = filter_age(cardiovascular)\n",
        "\n",
        "# Remove records without frequent procedures\n",
        "filtered_cardiovascular = filter_procedures(filtered_cardiovascular)\n",
        "\n",
        "# No repetitions\n",
        "hadm_all = tuple((filtered_cardiovascular.hadm_id.tolist()))\n",
        "\n",
        "# DO I NEED SUBJECT IDS?\n",
        "# Contains repetitions\n",
        "# subject_all = tuple(set(filtered_cardiovascular.subject_id.tolist()))\n",
        "\n",
        "# hadm_random\n",
        "# subject_random - AGAIN DO I NEED SUBJECT IDS?\n",
        "\n",
        "hadm_unique = hadm_all\n",
        "# subject_unique = subject_all"
      ],
      "metadata": {
        "id": "LTRBMWHPlqv6"
      },
      "execution_count": null,
      "outputs": []
    },
    {
      "cell_type": "code",
      "source": [
        "# Creating admissions event log\n",
        "\n",
        "admissions_query = (f'''\n",
        "  SELECT \n",
        "    hadm_id,\n",
        "    \"Admission\" as event,\n",
        "    admittime as timestamp,\n",
        "    admission_type,\n",
        "    DATE_DIFF(admittime, dob, year) as age,\n",
        "    gender\n",
        "  FROM\n",
        "    physionet-data.mimiciii_clinical.admissions,\n",
        "    physionet-data.mimiciii_clinical.patients\n",
        "  WHERE\n",
        "    hadm_id IN {hadm_unique} AND\n",
        "    admissions.subject_id = patients.subject_id\n",
        "''')\n",
        "\n",
        "admissions = client.query(admissions_query).to_dataframe()"
      ],
      "metadata": {
        "id": "wQW61EkTOCeF"
      },
      "execution_count": null,
      "outputs": []
    },
    {
      "cell_type": "code",
      "source": [
        "# Creating discharge/death event log\n",
        "\n",
        "discharges_query = (f'''\n",
        "    SELECT\n",
        "      hadm_id,\n",
        "      IF(deathtime IS NOT NULL, \"Death\", \"Discharge\") as event,\n",
        "      dischtime as timestamp\n",
        "    FROM \n",
        "      physionet-data.mimiciii_clinical.admissions\n",
        "    WHERE\n",
        "    hadm_id IN {hadm_unique}\n",
        "''')\n",
        "\n",
        "discharges = client.query(discharges_query).to_dataframe()"
      ],
      "metadata": {
        "id": "7qhDzhD6p9qU"
      },
      "execution_count": null,
      "outputs": []
    },
    {
      "cell_type": "code",
      "source": [
        "# Query to find n most frequent procedures conducted on cardiovascular patients\n",
        "\n",
        "num_procedures = 3\n",
        "\n",
        "freq_procedures_query = (f'''\n",
        "  SELECT\n",
        "    p.itemid,\n",
        "    COUNT(*) as count_procedures,\n",
        "    label\n",
        "  FROM\n",
        "    physionet-data.mimiciii_clinical.procedureevents_mv as p,\n",
        "    physionet-data.mimiciii_clinical.d_items as d\n",
        "  WHERE\n",
        "    hadm_id in {hadm_unique} AND\n",
        "    d.itemid = p.itemid\n",
        "  GROUP BY\n",
        "    p.itemid,\n",
        "    label\n",
        "  ORDER BY\n",
        "    count_procedures DESC\n",
        "  LIMIT\n",
        "    {num_procedures}\n",
        "''')\n",
        "\n",
        "freq_procedures = client.query(freq_procedures_query).to_dataframe()"
      ],
      "metadata": {
        "id": "RcmuqDPimCaJ"
      },
      "execution_count": null,
      "outputs": []
    },
    {
      "cell_type": "code",
      "source": [
        "# Creating procedures event log\n",
        "\n",
        "procedures_query = (f'''\n",
        "    SELECT\n",
        "      hadm_id,\n",
        "      \"Procedure\" as event,\n",
        "      starttime as timestamp,\n",
        "      itemid,\n",
        "      value\n",
        "    FROM\n",
        "      physionet-data.mimiciii_clinical.procedureevents_mv\n",
        "    WHERE\n",
        "      hadm_id in {hadm_unique} AND\n",
        "      itemid in {tuple(freq_procedures.itemid.tolist())}\n",
        "''')\n",
        "\n",
        "procedures = client.query(procedures_query).to_dataframe()"
      ],
      "metadata": {
        "id": "DS5kTf6KWtzu"
      },
      "execution_count": null,
      "outputs": []
    },
    {
      "cell_type": "code",
      "source": [
        "# Query to find n most frequent lab tests conducted on cardiovascular patients\n",
        "\n",
        "num_labtests = 2\n",
        "\n",
        "freq_labtests_query = (f'''\n",
        "  SELECT\n",
        "    lab.itemid,\n",
        "    COUNT(*) as count_labtests,\n",
        "    label\n",
        "  FROM\n",
        "    physionet-data.mimiciii_clinical.labevents as lab,\n",
        "    physionet-data.mimiciii_clinical.d_labitems as d\n",
        "  WHERE\n",
        "    hadm_id in {hadm_unique} AND\n",
        "    lab.itemid = d.itemid\n",
        "  GROUP BY\n",
        "    lab.itemid,\n",
        "    label\n",
        "  ORDER BY\n",
        "    count_labtests DESC\n",
        "  LIMIT\n",
        "    {num_labtests}\n",
        "''')\n",
        "\n",
        "freq_labtests = client.query(freq_labtests_query).to_dataframe()"
      ],
      "metadata": {
        "id": "J81NdUdNqNEQ"
      },
      "execution_count": null,
      "outputs": []
    },
    {
      "cell_type": "code",
      "source": [
        "# Create lab tests event log\n",
        "\n",
        "# hadm_id, \"lab test\", timestamp, itemid, flag OR value/valuenum [depending on which is better]\n",
        "\n",
        "labtests_query = (f'''\n",
        "  SELECT\n",
        "    hadm_id,\n",
        "    \"Labtest\" as event,\n",
        "    charttime as timestamp,\n",
        "    itemid,\n",
        "    IF(FLAG = \"abnormal\", \"abnormal\", \"normal\") as flag\n",
        "  FROM\n",
        "    physionet-data.mimiciii_clinical.labevents\n",
        "  WHERE\n",
        "    hadm_id IN {hadm_unique} AND\n",
        "    itemid IN {tuple(freq_labtests.itemid.tolist())} AND\n",
        "    valuenum IS NOT NULL\n",
        "''')\n",
        "\n",
        "labtests = client.query(labtests_query).to_dataframe()"
      ],
      "metadata": {
        "id": "RKpLBFVClK0H"
      },
      "execution_count": null,
      "outputs": []
    }
  ]
}