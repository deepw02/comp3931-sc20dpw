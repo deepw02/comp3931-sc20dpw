{
  "nbformat": 4,
  "nbformat_minor": 0,
  "metadata": {
    "colab": {
      "provenance": [],
      "authorship_tag": "ABX9TyNQXgUjgD/z1YsyDuuOKZzC",
      "include_colab_link": true
    },
    "kernelspec": {
      "name": "python3",
      "display_name": "Python 3"
    },
    "language_info": {
      "name": "python"
    },
    "accelerator": "GPU",
    "gpuClass": "standard"
  },
  "cells": [
    {
      "cell_type": "markdown",
      "metadata": {
        "id": "view-in-github",
        "colab_type": "text"
      },
      "source": [
        "<a href=\"https://colab.research.google.com/github/deepw02/comp3931-sc20dpw/blob/prepare_train/pm_ml.ipynb\" target=\"_parent\"><img src=\"https://colab.research.google.com/assets/colab-badge.svg\" alt=\"Open In Colab\"/></a>"
      ]
    },
    {
      "cell_type": "markdown",
      "source": [
        "# Process Mining/Machine Learning to Predict Diagnosis ICD codes\n"
      ],
      "metadata": {
        "id": "NZ8XnWN9-HcO"
      }
    },
    {
      "cell_type": "markdown",
      "source": [
        "### Authentication & Connecting to MIMIC-III"
      ],
      "metadata": {
        "id": "A-OFtd7z_Oj8"
      }
    },
    {
      "cell_type": "code",
      "execution_count": 1,
      "metadata": {
        "id": "ZCWeSi3W9zOX",
        "colab": {
          "base_uri": "https://localhost:8080/"
        },
        "outputId": "25627d07-a9c1-4055-bb06-1d4e97e95ea1"
      },
      "outputs": [
        {
          "output_type": "stream",
          "name": "stdout",
          "text": [
            "Drive already mounted at drive; to attempt to forcibly remount, call drive.mount(\"drive\", force_remount=True).\n"
          ]
        }
      ],
      "source": [
        "from google.colab import auth\n",
        "from google.cloud import bigquery\n",
        "from google.colab import drive\n",
        "\n",
        "import pandas as pd\n",
        "import numpy as np\n",
        "import sys\n",
        "\n",
        "auth.authenticate_user()\n",
        "client = bigquery.Client(project='physionet-data-369222')\n",
        "drive.mount('drive')"
      ]
    },
    {
      "cell_type": "markdown",
      "source": [
        "### Loading Dataframes from Google Drive"
      ],
      "metadata": {
        "id": "Ss_iZA7BS__K"
      }
    },
    {
      "cell_type": "code",
      "source": [
        "cardiovascular = pd.read_csv('drive/My Drive/comp3931-sc20dpw/cardiovascular.csv')\n",
        "filtered_cardiovascular = pd.read_csv('drive/My Drive/comp3931-sc20dpw/filtered_cardiovascular.csv')\n",
        "admissions = pd.read_csv('drive/My Drive/comp3931-sc20dpw/admissions.csv')\n",
        "discharges = pd.read_csv('drive/My Drive/comp3931-sc20dpw/discharges.csv')\n",
        "procedures = pd.read_csv('drive/My Drive/comp3931-sc20dpw/procedures.csv')\n",
        "freq_procedures = pd.read_csv('drive/My Drive/comp3931-sc20dpw/freq_procedures.csv')\n",
        "labtests = pd.read_csv('drive/My Drive/comp3931-sc20dpw/labtests.csv')\n",
        "freq_labtests = pd.read_csv('drive/My Drive/comp3931-sc20dpw/freq_labtests.csv')\n",
        "train_features = pd.read_csv('drive/My Drive/comp3931-sc20dpw/train_features.csv')"
      ],
      "metadata": {
        "id": "z7A3L0VOTVWq"
      },
      "execution_count": 2,
      "outputs": []
    },
    {
      "cell_type": "markdown",
      "source": [
        "### Function Definitions"
      ],
      "metadata": {
        "id": "-xI1Ry7Ub8Xp"
      }
    },
    {
      "cell_type": "code",
      "source": [
        "# Function to filter out records where age > 100 during admission\n",
        "\n",
        "def filter_age(df):\n",
        "\n",
        "  filter_age_query = (f'''\n",
        "    SELECT\n",
        "      hadm_id\n",
        "    FROM\n",
        "      physionet-data.mimiciii_clinical.admissions,\n",
        "      physionet-data.mimiciii_clinical.patients\n",
        "    WHERE\n",
        "      admissions.subject_id = patients.subject_id AND\n",
        "      hadm_id in {tuple(df.hadm_id.tolist())} AND\n",
        "      DATE_DIFF(admittime, dob, year) <= 100\n",
        "  ''')\n",
        "\n",
        "  result = client.query(filter_age_query).to_dataframe()\n",
        "\n",
        "  return df[df.hadm_id.isin(result.hadm_id)]"
      ],
      "metadata": {
        "id": "Ugm2oHJrmZpI"
      },
      "execution_count": 3,
      "outputs": []
    },
    {
      "cell_type": "code",
      "source": [
        "# Function to filter out records that have don't include any procedures\n",
        "\n",
        "def filter_procedures(df):\n",
        "   \n",
        "  filter_procedures_query = (f'''\n",
        "    SELECT\n",
        "      hadm_id\n",
        "    FROM\n",
        "      physionet-data.mimiciii_clinical.procedureevents_mv\n",
        "    WHERE\n",
        "      hadm_id in {tuple(df.hadm_id.tolist())}\n",
        "    GROUP BY\n",
        "      hadm_id\n",
        "  ''')\n",
        "  \n",
        "  result = client.query(filter_procedures_query).to_dataframe()\n",
        "\n",
        "  return df[df.hadm_id.isin(result.hadm_id)]"
      ],
      "metadata": {
        "id": "LBMUvjRacQkZ"
      },
      "execution_count": 4,
      "outputs": []
    },
    {
      "cell_type": "markdown",
      "source": [
        "### Event Log Creation"
      ],
      "metadata": {
        "id": "QnAAARhckp9x"
      }
    },
    {
      "cell_type": "code",
      "source": [
        "# Extracting subject_id, hadm_id & ICD-9 codes of cardiovascular patients\n",
        "\n",
        "cardiovascular_query = ('''\n",
        "  SELECT\n",
        "    hadm_id,\n",
        "    subject_id,\n",
        "    icd9_code\n",
        "  FROM\n",
        "    physionet-data.mimiciii_clinical.diagnoses_icd\n",
        "  WHERE\n",
        "    icd9_code BETWEEN '390%' AND '459%' AND\n",
        "    seq_num = 1\n",
        "''')\n",
        "\n",
        "cardiovascular = client.query(cardiovascular_query).to_dataframe()\n",
        "\n",
        "cardiovascular['icd9_code'] = cardiovascular[['icd9_code']].apply(pd.to_numeric)"
      ],
      "metadata": {
        "id": "TvMjPhXakumJ"
      },
      "execution_count": 5,
      "outputs": []
    },
    {
      "cell_type": "code",
      "source": [
        "# Filter cardiovascular patient records\n",
        "\n",
        "# Remove records with abnormal ages\n",
        "filtered_cardiovascular = filter_age(cardiovascular)\n",
        "\n",
        "# Remove records without any procedures\n",
        "filtered_cardiovascular = filter_procedures(filtered_cardiovascular)\n",
        "\n",
        "# Reset dataframe index\n",
        "filtered_cardiovascular = filtered_cardiovascular.reset_index()"
      ],
      "metadata": {
        "id": "LTRBMWHPlqv6"
      },
      "execution_count": 6,
      "outputs": []
    },
    {
      "cell_type": "code",
      "source": [
        "# No repetitions\n",
        "hadm_all = tuple((filtered_cardiovascular.hadm_id.tolist()))\n",
        "\n",
        "# DO I NEED SUBJECT IDS?\n",
        "# Contains repetitions\n",
        "# subject_all = tuple(set(filtered_cardiovascular.subject_id.tolist()))\n",
        "\n",
        "# hadm_random\n",
        "# subject_random - AGAIN DO I NEED SUBJECT IDS?\n",
        "\n",
        "hadm_unique = hadm_all\n",
        "# subject_unique = subject_all"
      ],
      "metadata": {
        "id": "lFsj6dlNQjVs"
      },
      "execution_count": 7,
      "outputs": []
    },
    {
      "cell_type": "code",
      "source": [
        "# Creating admissions event log\n",
        "\n",
        "admissions_query = (f'''\n",
        "  SELECT \n",
        "    hadm_id,\n",
        "    \"Admission\" as event,\n",
        "    admittime as timestamp,\n",
        "    admission_type,\n",
        "    DATE_DIFF(admittime, dob, year) as age,\n",
        "    gender\n",
        "  FROM\n",
        "    physionet-data.mimiciii_clinical.admissions,\n",
        "    physionet-data.mimiciii_clinical.patients\n",
        "  WHERE\n",
        "    hadm_id IN {hadm_unique} AND\n",
        "    admissions.subject_id = patients.subject_id\n",
        "''')\n",
        "\n",
        "admissions = client.query(admissions_query).to_dataframe()"
      ],
      "metadata": {
        "id": "wQW61EkTOCeF"
      },
      "execution_count": 8,
      "outputs": []
    },
    {
      "cell_type": "code",
      "source": [
        "# Creating discharge/death event log\n",
        "\n",
        "discharges_query = (f'''\n",
        "    SELECT\n",
        "      hadm_id,\n",
        "      IF(deathtime IS NOT NULL, \"Death\", \"Discharge\") as event,\n",
        "      dischtime as timestamp,\n",
        "      IF(deathtime IS NOT NULL, 1, 0) as expire_flag\n",
        "    FROM \n",
        "      physionet-data.mimiciii_clinical.admissions\n",
        "    WHERE\n",
        "    hadm_id IN {hadm_unique}\n",
        "''')\n",
        "\n",
        "discharges = client.query(discharges_query).to_dataframe()"
      ],
      "metadata": {
        "id": "7qhDzhD6p9qU"
      },
      "execution_count": 9,
      "outputs": []
    },
    {
      "cell_type": "code",
      "source": [
        "# Query to find n most frequent procedures conducted on cardiovascular patients\n",
        "\n",
        "num_procedures = 3\n",
        "\n",
        "freq_procedures_query = (f'''\n",
        "  SELECT\n",
        "    p.itemid,\n",
        "    COUNT(*) as count_procedures,\n",
        "    LOWER(REPLACE(label, ' ', '_')) as label\n",
        "  FROM\n",
        "    physionet-data.mimiciii_clinical.procedureevents_mv as p,\n",
        "    physionet-data.mimiciii_clinical.d_items as d\n",
        "  WHERE\n",
        "    hadm_id in {hadm_unique} AND\n",
        "    d.itemid = p.itemid\n",
        "  GROUP BY\n",
        "    p.itemid,\n",
        "    label\n",
        "  ORDER BY\n",
        "    count_procedures DESC\n",
        "  LIMIT\n",
        "    {num_procedures}\n",
        "''')\n",
        "\n",
        "freq_procedures = client.query(freq_procedures_query).to_dataframe()"
      ],
      "metadata": {
        "id": "RcmuqDPimCaJ"
      },
      "execution_count": 10,
      "outputs": []
    },
    {
      "cell_type": "code",
      "source": [
        "# Creating procedures event log\n",
        "\n",
        "procedures_query = (f'''\n",
        "    SELECT\n",
        "      hadm_id,\n",
        "      \"Procedure\" as event,\n",
        "      starttime as timestamp,\n",
        "      LOWER(REPLACE(label, ' ', '_')) as label\n",
        "    FROM\n",
        "      physionet-data.mimiciii_clinical.procedureevents_mv as p,\n",
        "      physionet-data.mimiciii_clinical.d_items as d\n",
        "    WHERE\n",
        "      hadm_id in {hadm_unique} AND\n",
        "      p.itemid in {tuple(freq_procedures.itemid.tolist())} AND\n",
        "      d.itemid = p.itemid\n",
        "''')\n",
        "\n",
        "procedures = client.query(procedures_query).to_dataframe()"
      ],
      "metadata": {
        "id": "DS5kTf6KWtzu"
      },
      "execution_count": 11,
      "outputs": []
    },
    {
      "cell_type": "code",
      "source": [
        "# Query to find n most frequent lab tests conducted on cardiovascular patients\n",
        "\n",
        "num_labtests = 2\n",
        "\n",
        "freq_labtests_query = (f'''\n",
        "  SELECT\n",
        "    lab.itemid,\n",
        "    COUNT(*) as count_labtests,\n",
        "    LOWER(REPLACE(label, ' ', '_')) as label\n",
        "  FROM\n",
        "    physionet-data.mimiciii_clinical.labevents as lab,\n",
        "    physionet-data.mimiciii_clinical.d_labitems as d\n",
        "  WHERE\n",
        "    hadm_id in {hadm_unique} AND\n",
        "    lab.itemid = d.itemid\n",
        "  GROUP BY\n",
        "    lab.itemid,\n",
        "    label\n",
        "  ORDER BY\n",
        "    count_labtests DESC\n",
        "  LIMIT\n",
        "    {num_labtests}\n",
        "''')\n",
        "\n",
        "freq_labtests = client.query(freq_labtests_query).to_dataframe()"
      ],
      "metadata": {
        "id": "J81NdUdNqNEQ"
      },
      "execution_count": 12,
      "outputs": []
    },
    {
      "cell_type": "code",
      "source": [
        "# Create lab tests event log\n",
        "\n",
        "labtests_query = (f'''\n",
        "  SELECT\n",
        "    hadm_id,\n",
        "    \"Labtest\" as event,\n",
        "    charttime as timestamp,\n",
        "    LOWER(REPLACE(label, ' ', '_')) as label,\n",
        "    IF(FLAG = \"abnormal\", \"abnormal\", \"normal\") as flag\n",
        "  FROM\n",
        "    physionet-data.mimiciii_clinical.labevents as lab,\n",
        "    physionet-data.mimiciii_clinical.d_labitems as d\n",
        "  WHERE\n",
        "    hadm_id IN {hadm_unique} AND\n",
        "    lab.itemid = d.itemid AND\n",
        "    lab.itemid IN {tuple(freq_labtests.itemid.tolist())} AND\n",
        "    valuenum IS NOT NULL\n",
        "''')\n",
        "\n",
        "labtests = client.query(labtests_query).to_dataframe()"
      ],
      "metadata": {
        "id": "RKpLBFVClK0H"
      },
      "execution_count": 13,
      "outputs": []
    },
    {
      "cell_type": "markdown",
      "source": [
        "### Prepare Data to Train Model"
      ],
      "metadata": {
        "id": "rHkAyqgs7fo5"
      }
    },
    {
      "cell_type": "code",
      "source": [
        "# Checking if admissions & discharges table have hadm_id in the same order\n",
        "\n",
        "def corr_check():\n",
        "\n",
        "  if len(admissions) != len(discharges):\n",
        "    return False\n",
        "\n",
        "  for i in range(len(admissions)):\n",
        "    if admissions.iloc[i].hadm_id != discharges.iloc[i].hadm_id:\n",
        "      return False\n",
        "\n",
        "  return True\n",
        "\n",
        "corr = corr_check()\n",
        "\n",
        "if not corr:\n",
        "  sys.exit()"
      ],
      "metadata": {
        "id": "8tQA2A6qRfxl"
      },
      "execution_count": 14,
      "outputs": []
    },
    {
      "cell_type": "code",
      "source": [
        "# Adding information from admissions & discharges\n",
        "\n",
        "train_features = pd.merge(admissions[['hadm_id', 'timestamp', 'admission_type', 'age', 'gender']], discharges[['hadm_id', 'timestamp', 'expire_flag']], on=['hadm_id'], how='inner')\n",
        "\n",
        "train_features.rename(columns={\"timestamp_x\": \"admittime\", \"timestamp_y\": \"dischtime\"}, inplace=True, errors=\"raise\")"
      ],
      "metadata": {
        "id": "441SOL5IW8Q9"
      },
      "execution_count": 15,
      "outputs": []
    },
    {
      "cell_type": "code",
      "source": [
        "# Storing order of hadm_id's in train_features in a list\n",
        "\n",
        "hadm_ordered = train_features.hadm_id.tolist()"
      ],
      "metadata": {
        "id": "ZkrlHl4LUJNC"
      },
      "execution_count": 16,
      "outputs": []
    },
    {
      "cell_type": "code",
      "source": [
        "# Adding information from procedures\n",
        "\n",
        "for label in freq_procedures.label.tolist():\n",
        "  \n",
        "  procedure_count = []\n",
        "  \n",
        "  for hadm_id in hadm_ordered:\n",
        "    \n",
        "    count = len(procedures.loc[(procedures['hadm_id'] == hadm_id) & (procedures['label'] == label)])\n",
        "    procedure_count.append(count)\n",
        "  \n",
        "  train_features[f'count_{label}'] = procedure_count"
      ],
      "metadata": {
        "id": "JFVSuNMqervv"
      },
      "execution_count": 17,
      "outputs": []
    },
    {
      "cell_type": "code",
      "source": [
        "# Adding information from labtests\n",
        "\n",
        "for label in freq_labtests.label.tolist():\n",
        "\n",
        "  for flag in ['abnormal', 'normal']:\n",
        "  \n",
        "    labtest_count = []\n",
        "    \n",
        "    for hadm_id in hadm_ordered:\n",
        "      \n",
        "      count = len(labtests.loc[(labtests['hadm_id'] == hadm_id) & (labtests['flag'] == flag) & (labtests['label'] == label)])\n",
        "      labtest_count.append(count)\n",
        "    \n",
        "    train_features[f'count_{flag}_{label}'] = labtest_count"
      ],
      "metadata": {
        "id": "jE-eZxBjYE4E"
      },
      "execution_count": 18,
      "outputs": []
    },
    {
      "cell_type": "code",
      "source": [
        "# CELL FOR OUTPUTS\n",
        "\n",
        "display(train_features)"
      ],
      "metadata": {
        "colab": {
          "base_uri": "https://localhost:8080/",
          "height": 659
        },
        "id": "d69QZc2ndzo3",
        "outputId": "124f1102-6ef9-4773-84e0-fe71f543ec45"
      },
      "execution_count": 21,
      "outputs": [
        {
          "output_type": "display_data",
          "data": {
            "text/plain": [
              "      hadm_id           admittime admission_type  age gender  \\\n",
              "0      155231 2109-12-11 22:27:00      EMERGENCY   71      F   \n",
              "1      166990 2180-03-30 12:27:00      EMERGENCY   57      M   \n",
              "2      105708 2126-09-17 07:15:00       ELECTIVE   66      M   \n",
              "3      185488 2164-05-30 21:17:00      EMERGENCY   65      M   \n",
              "4      190094 2190-07-03 15:11:00      EMERGENCY   72      F   \n",
              "...       ...                 ...            ...  ...    ...   \n",
              "6663   165886 2194-04-15 22:40:00      EMERGENCY   84      F   \n",
              "6664   148552 2194-05-07 19:18:00      EMERGENCY   84      F   \n",
              "6665   178246 2134-10-29 07:15:00       ELECTIVE   39      M   \n",
              "6666   156806 2123-09-08 06:45:00      EMERGENCY   66      F   \n",
              "6667   181473 2145-11-22 20:18:00      EMERGENCY   83      F   \n",
              "\n",
              "               dischtime  expire_flag  count_chest_x-ray  count_20_gauge  \\\n",
              "0    2109-12-28 14:13:00            0                  0               0   \n",
              "1    2180-03-31 12:00:00            1                  3               1   \n",
              "2    2126-09-23 18:24:00            0                  4               0   \n",
              "3    2164-06-08 15:45:00            0                  2               2   \n",
              "4    2190-07-26 16:30:00            0                  4               4   \n",
              "...                  ...          ...                ...             ...   \n",
              "6663 2194-04-25 17:38:00            0                  0               1   \n",
              "6664 2194-05-13 13:02:00            0                  0               2   \n",
              "6665 2134-11-03 19:00:00            0                  2               1   \n",
              "6666 2123-09-24 17:22:00            0                  2               3   \n",
              "6667 2145-11-27 14:00:00            0                  0               0   \n",
              "\n",
              "      count_ekg  count_abnormal_potassium  count_normal_potassium  \\\n",
              "0             0                         0                      26   \n",
              "1             1                         0                       7   \n",
              "2             2                         0                       8   \n",
              "3             1                         0                      10   \n",
              "4             0                         3                      28   \n",
              "...         ...                       ...                     ...   \n",
              "6663          1                         2                      10   \n",
              "6664          1                         1                       7   \n",
              "6665          1                         0                       5   \n",
              "6666          1                         3                      23   \n",
              "6667          1                         0                       7   \n",
              "\n",
              "      count_abnormal_hematocrit  count_normal_hematocrit  \n",
              "0                            19                        0  \n",
              "1                             4                        0  \n",
              "2                            12                        0  \n",
              "3                             6                        3  \n",
              "4                            19                        4  \n",
              "...                         ...                      ...  \n",
              "6663                         12                        7  \n",
              "6664                          7                        1  \n",
              "6665                          6                        0  \n",
              "6666                         18                        0  \n",
              "6667                          0                        6  \n",
              "\n",
              "[6668 rows x 14 columns]"
            ],
            "text/html": [
              "\n",
              "  <div id=\"df-585c0f14-a15c-4f69-ad91-c480742cd253\">\n",
              "    <div class=\"colab-df-container\">\n",
              "      <div>\n",
              "<style scoped>\n",
              "    .dataframe tbody tr th:only-of-type {\n",
              "        vertical-align: middle;\n",
              "    }\n",
              "\n",
              "    .dataframe tbody tr th {\n",
              "        vertical-align: top;\n",
              "    }\n",
              "\n",
              "    .dataframe thead th {\n",
              "        text-align: right;\n",
              "    }\n",
              "</style>\n",
              "<table border=\"1\" class=\"dataframe\">\n",
              "  <thead>\n",
              "    <tr style=\"text-align: right;\">\n",
              "      <th></th>\n",
              "      <th>hadm_id</th>\n",
              "      <th>admittime</th>\n",
              "      <th>admission_type</th>\n",
              "      <th>age</th>\n",
              "      <th>gender</th>\n",
              "      <th>dischtime</th>\n",
              "      <th>expire_flag</th>\n",
              "      <th>count_chest_x-ray</th>\n",
              "      <th>count_20_gauge</th>\n",
              "      <th>count_ekg</th>\n",
              "      <th>count_abnormal_potassium</th>\n",
              "      <th>count_normal_potassium</th>\n",
              "      <th>count_abnormal_hematocrit</th>\n",
              "      <th>count_normal_hematocrit</th>\n",
              "    </tr>\n",
              "  </thead>\n",
              "  <tbody>\n",
              "    <tr>\n",
              "      <th>0</th>\n",
              "      <td>155231</td>\n",
              "      <td>2109-12-11 22:27:00</td>\n",
              "      <td>EMERGENCY</td>\n",
              "      <td>71</td>\n",
              "      <td>F</td>\n",
              "      <td>2109-12-28 14:13:00</td>\n",
              "      <td>0</td>\n",
              "      <td>0</td>\n",
              "      <td>0</td>\n",
              "      <td>0</td>\n",
              "      <td>0</td>\n",
              "      <td>26</td>\n",
              "      <td>19</td>\n",
              "      <td>0</td>\n",
              "    </tr>\n",
              "    <tr>\n",
              "      <th>1</th>\n",
              "      <td>166990</td>\n",
              "      <td>2180-03-30 12:27:00</td>\n",
              "      <td>EMERGENCY</td>\n",
              "      <td>57</td>\n",
              "      <td>M</td>\n",
              "      <td>2180-03-31 12:00:00</td>\n",
              "      <td>1</td>\n",
              "      <td>3</td>\n",
              "      <td>1</td>\n",
              "      <td>1</td>\n",
              "      <td>0</td>\n",
              "      <td>7</td>\n",
              "      <td>4</td>\n",
              "      <td>0</td>\n",
              "    </tr>\n",
              "    <tr>\n",
              "      <th>2</th>\n",
              "      <td>105708</td>\n",
              "      <td>2126-09-17 07:15:00</td>\n",
              "      <td>ELECTIVE</td>\n",
              "      <td>66</td>\n",
              "      <td>M</td>\n",
              "      <td>2126-09-23 18:24:00</td>\n",
              "      <td>0</td>\n",
              "      <td>4</td>\n",
              "      <td>0</td>\n",
              "      <td>2</td>\n",
              "      <td>0</td>\n",
              "      <td>8</td>\n",
              "      <td>12</td>\n",
              "      <td>0</td>\n",
              "    </tr>\n",
              "    <tr>\n",
              "      <th>3</th>\n",
              "      <td>185488</td>\n",
              "      <td>2164-05-30 21:17:00</td>\n",
              "      <td>EMERGENCY</td>\n",
              "      <td>65</td>\n",
              "      <td>M</td>\n",
              "      <td>2164-06-08 15:45:00</td>\n",
              "      <td>0</td>\n",
              "      <td>2</td>\n",
              "      <td>2</td>\n",
              "      <td>1</td>\n",
              "      <td>0</td>\n",
              "      <td>10</td>\n",
              "      <td>6</td>\n",
              "      <td>3</td>\n",
              "    </tr>\n",
              "    <tr>\n",
              "      <th>4</th>\n",
              "      <td>190094</td>\n",
              "      <td>2190-07-03 15:11:00</td>\n",
              "      <td>EMERGENCY</td>\n",
              "      <td>72</td>\n",
              "      <td>F</td>\n",
              "      <td>2190-07-26 16:30:00</td>\n",
              "      <td>0</td>\n",
              "      <td>4</td>\n",
              "      <td>4</td>\n",
              "      <td>0</td>\n",
              "      <td>3</td>\n",
              "      <td>28</td>\n",
              "      <td>19</td>\n",
              "      <td>4</td>\n",
              "    </tr>\n",
              "    <tr>\n",
              "      <th>...</th>\n",
              "      <td>...</td>\n",
              "      <td>...</td>\n",
              "      <td>...</td>\n",
              "      <td>...</td>\n",
              "      <td>...</td>\n",
              "      <td>...</td>\n",
              "      <td>...</td>\n",
              "      <td>...</td>\n",
              "      <td>...</td>\n",
              "      <td>...</td>\n",
              "      <td>...</td>\n",
              "      <td>...</td>\n",
              "      <td>...</td>\n",
              "      <td>...</td>\n",
              "    </tr>\n",
              "    <tr>\n",
              "      <th>6663</th>\n",
              "      <td>165886</td>\n",
              "      <td>2194-04-15 22:40:00</td>\n",
              "      <td>EMERGENCY</td>\n",
              "      <td>84</td>\n",
              "      <td>F</td>\n",
              "      <td>2194-04-25 17:38:00</td>\n",
              "      <td>0</td>\n",
              "      <td>0</td>\n",
              "      <td>1</td>\n",
              "      <td>1</td>\n",
              "      <td>2</td>\n",
              "      <td>10</td>\n",
              "      <td>12</td>\n",
              "      <td>7</td>\n",
              "    </tr>\n",
              "    <tr>\n",
              "      <th>6664</th>\n",
              "      <td>148552</td>\n",
              "      <td>2194-05-07 19:18:00</td>\n",
              "      <td>EMERGENCY</td>\n",
              "      <td>84</td>\n",
              "      <td>F</td>\n",
              "      <td>2194-05-13 13:02:00</td>\n",
              "      <td>0</td>\n",
              "      <td>0</td>\n",
              "      <td>2</td>\n",
              "      <td>1</td>\n",
              "      <td>1</td>\n",
              "      <td>7</td>\n",
              "      <td>7</td>\n",
              "      <td>1</td>\n",
              "    </tr>\n",
              "    <tr>\n",
              "      <th>6665</th>\n",
              "      <td>178246</td>\n",
              "      <td>2134-10-29 07:15:00</td>\n",
              "      <td>ELECTIVE</td>\n",
              "      <td>39</td>\n",
              "      <td>M</td>\n",
              "      <td>2134-11-03 19:00:00</td>\n",
              "      <td>0</td>\n",
              "      <td>2</td>\n",
              "      <td>1</td>\n",
              "      <td>1</td>\n",
              "      <td>0</td>\n",
              "      <td>5</td>\n",
              "      <td>6</td>\n",
              "      <td>0</td>\n",
              "    </tr>\n",
              "    <tr>\n",
              "      <th>6666</th>\n",
              "      <td>156806</td>\n",
              "      <td>2123-09-08 06:45:00</td>\n",
              "      <td>EMERGENCY</td>\n",
              "      <td>66</td>\n",
              "      <td>F</td>\n",
              "      <td>2123-09-24 17:22:00</td>\n",
              "      <td>0</td>\n",
              "      <td>2</td>\n",
              "      <td>3</td>\n",
              "      <td>1</td>\n",
              "      <td>3</td>\n",
              "      <td>23</td>\n",
              "      <td>18</td>\n",
              "      <td>0</td>\n",
              "    </tr>\n",
              "    <tr>\n",
              "      <th>6667</th>\n",
              "      <td>181473</td>\n",
              "      <td>2145-11-22 20:18:00</td>\n",
              "      <td>EMERGENCY</td>\n",
              "      <td>83</td>\n",
              "      <td>F</td>\n",
              "      <td>2145-11-27 14:00:00</td>\n",
              "      <td>0</td>\n",
              "      <td>0</td>\n",
              "      <td>0</td>\n",
              "      <td>1</td>\n",
              "      <td>0</td>\n",
              "      <td>7</td>\n",
              "      <td>0</td>\n",
              "      <td>6</td>\n",
              "    </tr>\n",
              "  </tbody>\n",
              "</table>\n",
              "<p>6668 rows × 14 columns</p>\n",
              "</div>\n",
              "      <button class=\"colab-df-convert\" onclick=\"convertToInteractive('df-585c0f14-a15c-4f69-ad91-c480742cd253')\"\n",
              "              title=\"Convert this dataframe to an interactive table.\"\n",
              "              style=\"display:none;\">\n",
              "        \n",
              "  <svg xmlns=\"http://www.w3.org/2000/svg\" height=\"24px\"viewBox=\"0 0 24 24\"\n",
              "       width=\"24px\">\n",
              "    <path d=\"M0 0h24v24H0V0z\" fill=\"none\"/>\n",
              "    <path d=\"M18.56 5.44l.94 2.06.94-2.06 2.06-.94-2.06-.94-.94-2.06-.94 2.06-2.06.94zm-11 1L8.5 8.5l.94-2.06 2.06-.94-2.06-.94L8.5 2.5l-.94 2.06-2.06.94zm10 10l.94 2.06.94-2.06 2.06-.94-2.06-.94-.94-2.06-.94 2.06-2.06.94z\"/><path d=\"M17.41 7.96l-1.37-1.37c-.4-.4-.92-.59-1.43-.59-.52 0-1.04.2-1.43.59L10.3 9.45l-7.72 7.72c-.78.78-.78 2.05 0 2.83L4 21.41c.39.39.9.59 1.41.59.51 0 1.02-.2 1.41-.59l7.78-7.78 2.81-2.81c.8-.78.8-2.07 0-2.86zM5.41 20L4 18.59l7.72-7.72 1.47 1.35L5.41 20z\"/>\n",
              "  </svg>\n",
              "      </button>\n",
              "      \n",
              "  <style>\n",
              "    .colab-df-container {\n",
              "      display:flex;\n",
              "      flex-wrap:wrap;\n",
              "      gap: 12px;\n",
              "    }\n",
              "\n",
              "    .colab-df-convert {\n",
              "      background-color: #E8F0FE;\n",
              "      border: none;\n",
              "      border-radius: 50%;\n",
              "      cursor: pointer;\n",
              "      display: none;\n",
              "      fill: #1967D2;\n",
              "      height: 32px;\n",
              "      padding: 0 0 0 0;\n",
              "      width: 32px;\n",
              "    }\n",
              "\n",
              "    .colab-df-convert:hover {\n",
              "      background-color: #E2EBFA;\n",
              "      box-shadow: 0px 1px 2px rgba(60, 64, 67, 0.3), 0px 1px 3px 1px rgba(60, 64, 67, 0.15);\n",
              "      fill: #174EA6;\n",
              "    }\n",
              "\n",
              "    [theme=dark] .colab-df-convert {\n",
              "      background-color: #3B4455;\n",
              "      fill: #D2E3FC;\n",
              "    }\n",
              "\n",
              "    [theme=dark] .colab-df-convert:hover {\n",
              "      background-color: #434B5C;\n",
              "      box-shadow: 0px 1px 3px 1px rgba(0, 0, 0, 0.15);\n",
              "      filter: drop-shadow(0px 1px 2px rgba(0, 0, 0, 0.3));\n",
              "      fill: #FFFFFF;\n",
              "    }\n",
              "  </style>\n",
              "\n",
              "      <script>\n",
              "        const buttonEl =\n",
              "          document.querySelector('#df-585c0f14-a15c-4f69-ad91-c480742cd253 button.colab-df-convert');\n",
              "        buttonEl.style.display =\n",
              "          google.colab.kernel.accessAllowed ? 'block' : 'none';\n",
              "\n",
              "        async function convertToInteractive(key) {\n",
              "          const element = document.querySelector('#df-585c0f14-a15c-4f69-ad91-c480742cd253');\n",
              "          const dataTable =\n",
              "            await google.colab.kernel.invokeFunction('convertToInteractive',\n",
              "                                                     [key], {});\n",
              "          if (!dataTable) return;\n",
              "\n",
              "          const docLinkHtml = 'Like what you see? Visit the ' +\n",
              "            '<a target=\"_blank\" href=https://colab.research.google.com/notebooks/data_table.ipynb>data table notebook</a>'\n",
              "            + ' to learn more about interactive tables.';\n",
              "          element.innerHTML = '';\n",
              "          dataTable['output_type'] = 'display_data';\n",
              "          await google.colab.output.renderOutput(dataTable, element);\n",
              "          const docLink = document.createElement('div');\n",
              "          docLink.innerHTML = docLinkHtml;\n",
              "          element.appendChild(docLink);\n",
              "        }\n",
              "      </script>\n",
              "    </div>\n",
              "  </div>\n",
              "  "
            ]
          },
          "metadata": {}
        }
      ]
    },
    {
      "cell_type": "markdown",
      "source": [
        "### Saving Dataframes to Google Drive"
      ],
      "metadata": {
        "id": "h19L83s_S0YD"
      }
    },
    {
      "cell_type": "code",
      "source": [
        "# Saving dataframes to Google Drive\n",
        "\n",
        "cardiovascular.to_csv('cardiovascular.csv', index=False)\n",
        "!cp cardiovascular.csv 'drive/My Drive/comp3931-sc20dpw'\n",
        "\n",
        "filtered_cardiovascular.to_csv('filtered_cardiovascular.csv', index=False)\n",
        "!cp filtered_cardiovascular.csv 'drive/My Drive/comp3931-sc20dpw'\n",
        "\n",
        "admissions.to_csv('admissions.csv', index=False)\n",
        "!cp admissions.csv 'drive/My Drive/comp3931-sc20dpw'\n",
        "\n",
        "discharges.to_csv('discharges.csv', index=False)\n",
        "!cp discharges.csv 'drive/My Drive/comp3931-sc20dpw'\n",
        "\n",
        "procedures.to_csv('procedures.csv', index=False)\n",
        "!cp procedures.csv 'drive/My Drive/comp3931-sc20dpw'\n",
        "\n",
        "freq_procedures.to_csv('freq_procedures.csv', index=False)\n",
        "!cp freq_procedures.csv 'drive/My Drive/comp3931-sc20dpw'\n",
        "\n",
        "labtests.to_csv('labtests.csv', index=False)\n",
        "!cp labtests.csv 'drive/My Drive/comp3931-sc20dpw'\n",
        "\n",
        "freq_labtests.to_csv('freq_labtests.csv', index=False)\n",
        "!cp freq_labtests.csv 'drive/My Drive/comp3931-sc20dpw'\n",
        "\n",
        "train_features.to_csv('train_features.csv', index=False)\n",
        "!cp train_features.csv 'drive/My Drive/comp3931-sc20dpw'"
      ],
      "metadata": {
        "id": "Q_SVLPnlKCAC"
      },
      "execution_count": 20,
      "outputs": []
    }
  ]
}