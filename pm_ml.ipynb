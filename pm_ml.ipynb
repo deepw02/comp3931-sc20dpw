{
  "nbformat": 4,
  "nbformat_minor": 0,
  "metadata": {
    "colab": {
      "provenance": [],
      "collapsed_sections": [
        "Ss_iZA7BS__K",
        "-xI1Ry7Ub8Xp",
        "QnAAARhckp9x",
        "HNGqEjCe1Wcb",
        "HqNS7LaYcOZT",
        "swlm02rYR1ej",
        "ro7Sf9Xzwmhg",
        "UOwbqmt_xmcF"
      ],
      "authorship_tag": "ABX9TyMQ7b4zPZiZc/6P+M6uIwSp",
      "include_colab_link": true
    },
    "kernelspec": {
      "name": "python3",
      "display_name": "Python 3"
    },
    "language_info": {
      "name": "python"
    },
    "gpuClass": "standard"
  },
  "cells": [
    {
      "cell_type": "markdown",
      "metadata": {
        "id": "view-in-github",
        "colab_type": "text"
      },
      "source": [
        "<a href=\"https://colab.research.google.com/github/deepw02/comp3931-sc20dpw/blob/prepare_train/pm_ml.ipynb\" target=\"_parent\"><img src=\"https://colab.research.google.com/assets/colab-badge.svg\" alt=\"Open In Colab\"/></a>"
      ]
    },
    {
      "cell_type": "markdown",
      "source": [
        "# Process Mining/Machine Learning to Predict Diagnosis ICD codes\n"
      ],
      "metadata": {
        "id": "NZ8XnWN9-HcO"
      }
    },
    {
      "cell_type": "markdown",
      "source": [
        "### Authentication & Connecting to MIMIC-III"
      ],
      "metadata": {
        "id": "A-OFtd7z_Oj8"
      }
    },
    {
      "cell_type": "code",
      "execution_count": null,
      "metadata": {
        "id": "ZCWeSi3W9zOX"
      },
      "outputs": [],
      "source": [
        "from google.colab import auth\n",
        "from google.cloud import bigquery\n",
        "from google.colab import drive\n",
        "\n",
        "import pandas as pd\n",
        "import numpy as np\n",
        "import sys\n",
        "\n",
        "from sklearn.base import BaseEstimator\n",
        "from sklearn.pipeline import Pipeline\n",
        "from sklearn.preprocessing import StandardScaler\n",
        "from sklearn.preprocessing import OneHotEncoder\n",
        "from sklearn.pipeline import FeatureUnion\n",
        "from sklearn.model_selection import train_test_split\n",
        "\n",
        "auth.authenticate_user()\n",
        "client = bigquery.Client(project='physionet-data-369222')\n",
        "drive.mount('drive')"
      ]
    },
    {
      "cell_type": "markdown",
      "source": [
        "### Load Dataframes from Google Drive"
      ],
      "metadata": {
        "id": "Ss_iZA7BS__K"
      }
    },
    {
      "cell_type": "code",
      "source": [
        "cardiovascular = pd.read_csv('drive/My Drive/comp3931-sc20dpw/cardiovascular.csv')\n",
        "filtered_cardiovascular = pd.read_csv('drive/My Drive/comp3931-sc20dpw/filtered_cardiovascular.csv')\n",
        "admissions = pd.read_csv('drive/My Drive/comp3931-sc20dpw/admissions.csv')\n",
        "discharges = pd.read_csv('drive/My Drive/comp3931-sc20dpw/discharges.csv')\n",
        "procedures = pd.read_csv('drive/My Drive/comp3931-sc20dpw/procedures.csv')\n",
        "freq_procedures = pd.read_csv('drive/My Drive/comp3931-sc20dpw/freq_procedures.csv')\n",
        "labtests = pd.read_csv('drive/My Drive/comp3931-sc20dpw/labtests.csv')\n",
        "freq_labtests = pd.read_csv('drive/My Drive/comp3931-sc20dpw/freq_labtests.csv')\n",
        "feature_data = pd.read_csv('drive/My Drive/comp3931-sc20dpw/feature_data.csv')\n",
        "target_data = pd.read_csv('drive/My Drive/comp3931-sc20dpw/target_data.csv')"
      ],
      "metadata": {
        "id": "z7A3L0VOTVWq"
      },
      "execution_count": 2,
      "outputs": []
    },
    {
      "cell_type": "markdown",
      "source": [
        "### Function & Class Definitions"
      ],
      "metadata": {
        "id": "-xI1Ry7Ub8Xp"
      }
    },
    {
      "cell_type": "code",
      "source": [
        "# Function to filter out records where age > 100 during admission\n",
        "\n",
        "def filter_age(df):\n",
        "\n",
        "  filter_age_query = (f'''\n",
        "    SELECT\n",
        "      hadm_id\n",
        "    FROM\n",
        "      physionet-data.mimiciii_clinical.admissions,\n",
        "      physionet-data.mimiciii_clinical.patients\n",
        "    WHERE\n",
        "      admissions.subject_id = patients.subject_id AND\n",
        "      hadm_id in {tuple(df.hadm_id.tolist())} AND\n",
        "      DATE_DIFF(admittime, dob, year) <= 100\n",
        "  ''')\n",
        "\n",
        "  result = client.query(filter_age_query).to_dataframe()\n",
        "\n",
        "  return df[df.hadm_id.isin(result.hadm_id)]"
      ],
      "metadata": {
        "id": "Ugm2oHJrmZpI"
      },
      "execution_count": 3,
      "outputs": []
    },
    {
      "cell_type": "code",
      "source": [
        "# Function to filter out records that have don't include any procedures\n",
        "\n",
        "def filter_procedures(df):\n",
        "   \n",
        "  filter_procedures_query = (f'''\n",
        "    SELECT\n",
        "      hadm_id\n",
        "    FROM\n",
        "      physionet-data.mimiciii_clinical.procedureevents_mv\n",
        "    WHERE\n",
        "      hadm_id in {tuple(df.hadm_id.tolist())}\n",
        "    GROUP BY\n",
        "      hadm_id\n",
        "  ''')\n",
        "  \n",
        "  result = client.query(filter_procedures_query).to_dataframe()\n",
        "\n",
        "  return df[df.hadm_id.isin(result.hadm_id)]"
      ],
      "metadata": {
        "id": "LBMUvjRacQkZ"
      },
      "execution_count": 4,
      "outputs": []
    },
    {
      "cell_type": "code",
      "source": [
        "# CODE TAKEN FROM COMP3611-ML_Pipeline_Part_2.ipynb\n",
        "# Select columns from dataframe needed for preprocessing\n",
        "\n",
        "class DataFrameSelector(BaseEstimator):\n",
        "    \n",
        "    def __init__(self, attribute_names):\n",
        "        self.attribute_names= attribute_names\n",
        "        \n",
        "    def fit(self,X, y = None):\n",
        "        return self\n",
        "    \n",
        "    def transform(self, X):\n",
        "        return X[self.attribute_names].values"
      ],
      "metadata": {
        "id": "Ti0yLY5pZ_4t"
      },
      "execution_count": 17,
      "outputs": []
    },
    {
      "cell_type": "markdown",
      "source": [
        "### Event Log Creation"
      ],
      "metadata": {
        "id": "QnAAARhckp9x"
      }
    },
    {
      "cell_type": "code",
      "source": [
        "# Extracting subject_id, hadm_id & ICD-9 codes of cardiovascular patients\n",
        "\n",
        "cardiovascular_query = ('''\n",
        "  SELECT\n",
        "    hadm_id,\n",
        "    subject_id,\n",
        "    icd9_code\n",
        "  FROM\n",
        "    physionet-data.mimiciii_clinical.diagnoses_icd\n",
        "  WHERE\n",
        "    icd9_code BETWEEN '390%' AND '459%' AND\n",
        "    seq_num = 1\n",
        "''')\n",
        "\n",
        "cardiovascular = client.query(cardiovascular_query).to_dataframe()\n",
        "\n",
        "cardiovascular['icd9_code'] = cardiovascular[['icd9_code']].apply(pd.to_numeric)"
      ],
      "metadata": {
        "id": "TvMjPhXakumJ"
      },
      "execution_count": 6,
      "outputs": []
    },
    {
      "cell_type": "code",
      "source": [
        "# Filter cardiovascular patient records\n",
        "\n",
        "# Remove records with abnormal ages\n",
        "filtered_cardiovascular = filter_age(cardiovascular)\n",
        "\n",
        "# Remove records without any procedures\n",
        "filtered_cardiovascular = filter_procedures(filtered_cardiovascular)\n",
        "\n",
        "# Reset dataframe index\n",
        "filtered_cardiovascular = filtered_cardiovascular.reset_index()"
      ],
      "metadata": {
        "id": "LTRBMWHPlqv6"
      },
      "execution_count": 7,
      "outputs": []
    },
    {
      "cell_type": "code",
      "source": [
        "# No repetitions\n",
        "hadm_all = tuple((filtered_cardiovascular.hadm_id.tolist()))\n",
        "\n",
        "# DO I NEED SUBJECT IDS?\n",
        "# Contains repetitions\n",
        "# subject_all = tuple(set(filtered_cardiovascular.subject_id.tolist()))\n",
        "\n",
        "# hadm_random\n",
        "# subject_random - AGAIN DO I NEED SUBJECT IDS?\n",
        "\n",
        "hadm_unique = hadm_all\n",
        "# subject_unique = subject_all"
      ],
      "metadata": {
        "id": "lFsj6dlNQjVs"
      },
      "execution_count": 8,
      "outputs": []
    },
    {
      "cell_type": "code",
      "source": [
        "# Creating admissions event log\n",
        "\n",
        "admissions_query = (f'''\n",
        "  SELECT \n",
        "    hadm_id,\n",
        "    \"Admission\" as event,\n",
        "    admittime as timestamp,\n",
        "    admission_type,\n",
        "    DATE_DIFF(admittime, dob, year) as age,\n",
        "    gender\n",
        "  FROM\n",
        "    physionet-data.mimiciii_clinical.admissions,\n",
        "    physionet-data.mimiciii_clinical.patients\n",
        "  WHERE\n",
        "    hadm_id IN {hadm_unique} AND\n",
        "    admissions.subject_id = patients.subject_id\n",
        "''')\n",
        "\n",
        "admissions = client.query(admissions_query).to_dataframe()"
      ],
      "metadata": {
        "id": "wQW61EkTOCeF"
      },
      "execution_count": 9,
      "outputs": []
    },
    {
      "cell_type": "code",
      "source": [
        "# Creating discharge/death event log\n",
        "\n",
        "discharges_query = (f'''\n",
        "    SELECT\n",
        "      hadm_id,\n",
        "      IF(deathtime IS NOT NULL, \"Death\", \"Discharge\") as event,\n",
        "      dischtime as timestamp,\n",
        "      IF(deathtime IS NOT NULL, 1, 0) as expire_flag\n",
        "    FROM \n",
        "      physionet-data.mimiciii_clinical.admissions\n",
        "    WHERE\n",
        "    hadm_id IN {hadm_unique}\n",
        "''')\n",
        "\n",
        "discharges = client.query(discharges_query).to_dataframe()"
      ],
      "metadata": {
        "id": "7qhDzhD6p9qU"
      },
      "execution_count": 10,
      "outputs": []
    },
    {
      "cell_type": "code",
      "source": [
        "# Query to find n most frequent procedures conducted on cardiovascular patients\n",
        "\n",
        "num_procedures = 3\n",
        "\n",
        "freq_procedures_query = (f'''\n",
        "  SELECT\n",
        "    p.itemid,\n",
        "    COUNT(*) as count_procedures,\n",
        "    LOWER(REPLACE(label, ' ', '_')) as label\n",
        "  FROM\n",
        "    physionet-data.mimiciii_clinical.procedureevents_mv as p,\n",
        "    physionet-data.mimiciii_clinical.d_items as d\n",
        "  WHERE\n",
        "    hadm_id in {hadm_unique} AND\n",
        "    d.itemid = p.itemid\n",
        "  GROUP BY\n",
        "    p.itemid,\n",
        "    label\n",
        "  ORDER BY\n",
        "    count_procedures DESC\n",
        "  LIMIT\n",
        "    {num_procedures}\n",
        "''')\n",
        "\n",
        "freq_procedures = client.query(freq_procedures_query).to_dataframe()"
      ],
      "metadata": {
        "id": "RcmuqDPimCaJ"
      },
      "execution_count": 11,
      "outputs": []
    },
    {
      "cell_type": "code",
      "source": [
        "# Creating procedures event log\n",
        "\n",
        "procedures_query = (f'''\n",
        "    SELECT\n",
        "      hadm_id,\n",
        "      \"Procedure\" as event,\n",
        "      starttime as timestamp,\n",
        "      LOWER(REPLACE(label, ' ', '_')) as label\n",
        "    FROM\n",
        "      physionet-data.mimiciii_clinical.procedureevents_mv as p,\n",
        "      physionet-data.mimiciii_clinical.d_items as d\n",
        "    WHERE\n",
        "      hadm_id in {hadm_unique} AND\n",
        "      p.itemid in {tuple(freq_procedures.itemid.tolist())} AND\n",
        "      d.itemid = p.itemid\n",
        "''')\n",
        "\n",
        "procedures = client.query(procedures_query).to_dataframe()"
      ],
      "metadata": {
        "id": "DS5kTf6KWtzu"
      },
      "execution_count": 12,
      "outputs": []
    },
    {
      "cell_type": "code",
      "source": [
        "# Query to find n most frequent lab tests conducted on cardiovascular patients\n",
        "\n",
        "num_labtests = 2\n",
        "\n",
        "freq_labtests_query = (f'''\n",
        "  SELECT\n",
        "    lab.itemid,\n",
        "    COUNT(*) as count_labtests,\n",
        "    LOWER(REPLACE(label, ' ', '_')) as label\n",
        "  FROM\n",
        "    physionet-data.mimiciii_clinical.labevents as lab,\n",
        "    physionet-data.mimiciii_clinical.d_labitems as d\n",
        "  WHERE\n",
        "    hadm_id in {hadm_unique} AND\n",
        "    lab.itemid = d.itemid\n",
        "  GROUP BY\n",
        "    lab.itemid,\n",
        "    label\n",
        "  ORDER BY\n",
        "    count_labtests DESC\n",
        "  LIMIT\n",
        "    {num_labtests}\n",
        "''')\n",
        "\n",
        "freq_labtests = client.query(freq_labtests_query).to_dataframe()"
      ],
      "metadata": {
        "id": "J81NdUdNqNEQ"
      },
      "execution_count": 13,
      "outputs": []
    },
    {
      "cell_type": "code",
      "source": [
        "# Creating lab tests event log\n",
        "\n",
        "labtests_query = (f'''\n",
        "  SELECT\n",
        "    hadm_id,\n",
        "    \"Labtest\" as event,\n",
        "    charttime as timestamp,\n",
        "    LOWER(REPLACE(label, ' ', '_')) as label,\n",
        "    IF(FLAG = \"abnormal\", \"abnormal\", \"normal\") as flag\n",
        "  FROM\n",
        "    physionet-data.mimiciii_clinical.labevents as lab,\n",
        "    physionet-data.mimiciii_clinical.d_labitems as d\n",
        "  WHERE\n",
        "    hadm_id IN {hadm_unique} AND\n",
        "    lab.itemid = d.itemid AND\n",
        "    lab.itemid IN {tuple(freq_labtests.itemid.tolist())} AND\n",
        "    valuenum IS NOT NULL\n",
        "''')\n",
        "\n",
        "labtests = client.query(labtests_query).to_dataframe()"
      ],
      "metadata": {
        "id": "RKpLBFVClK0H"
      },
      "execution_count": 14,
      "outputs": []
    },
    {
      "cell_type": "markdown",
      "source": [
        "### Prepare Feature Data"
      ],
      "metadata": {
        "id": "rHkAyqgs7fo5"
      }
    },
    {
      "cell_type": "code",
      "source": [
        "# Checking if admissions & discharges table have hadm_id in the same order\n",
        "\n",
        "def corr_check():\n",
        "\n",
        "  if len(admissions) != len(discharges):\n",
        "    return False\n",
        "\n",
        "  for i in range(len(admissions)):\n",
        "    if admissions.iloc[i].hadm_id != discharges.iloc[i].hadm_id:\n",
        "      return False\n",
        "\n",
        "  return True\n",
        "\n",
        "corr = corr_check()\n",
        "\n",
        "if not corr:\n",
        "  sys.exit()"
      ],
      "metadata": {
        "id": "8tQA2A6qRfxl"
      },
      "execution_count": 12,
      "outputs": []
    },
    {
      "cell_type": "code",
      "source": [
        "# Adding information from admissions & discharges\n",
        "\n",
        "feature_data = pd.merge(admissions[['hadm_id', 'timestamp', 'admission_type', 'age', 'gender']], discharges[['hadm_id', 'timestamp', 'expire_flag']], on=['hadm_id'], how='inner')\n",
        "\n",
        "feature_data['timestamp_x'] = feature_data[['timestamp_x']].apply(pd.to_datetime)\n",
        "feature_data['timestamp_y'] = feature_data[['timestamp_y']].apply(pd.to_datetime)\n",
        "\n",
        "\n",
        "# Keeping only hour of admission & discharge\n",
        "feature_data['timestamp_x'] = feature_data['timestamp_x'].dt.hour\n",
        "feature_data['timestamp_y'] = feature_data['timestamp_y'].dt.hour\n",
        "\n",
        "feature_data.rename(columns={\"timestamp_x\": \"admit_hour\", \"timestamp_y\": \"disch_hour\"}, inplace=True, errors=\"raise\")"
      ],
      "metadata": {
        "id": "441SOL5IW8Q9"
      },
      "execution_count": 59,
      "outputs": []
    },
    {
      "cell_type": "code",
      "source": [
        "# Storing order of hadm_id's in feature_data in a list & dropping from table\n",
        "\n",
        "hadm_ordered = feature_data.hadm_id.tolist()\n",
        "\n",
        "if 'hadm_id' in feature_data.columns:\n",
        "  feature_data.drop(columns=['hadm_id'], inplace=True)"
      ],
      "metadata": {
        "id": "ZkrlHl4LUJNC"
      },
      "execution_count": 60,
      "outputs": []
    },
    {
      "cell_type": "code",
      "source": [
        "# OLD IMPLEMENTATION\n",
        "# Adding information from procedures\n",
        "\n",
        "# for label in freq_procedures.label.tolist():\n",
        "  \n",
        "#   procedure_count = []\n",
        "  \n",
        "#   for hadm_id in hadm_ordered:\n",
        "    \n",
        "#     count = len(procedures.loc[(procedures['hadm_id'] == hadm_id) & (procedures['label'] == label)])\n",
        "#     procedure_count.append(count)\n",
        "  \n",
        "#   feature_data[f'count_{label}'] = procedure_count"
      ],
      "metadata": {
        "id": "JFVSuNMqervv"
      },
      "execution_count": 70,
      "outputs": []
    },
    {
      "cell_type": "code",
      "source": [
        "# Adding information from procedures\n",
        "\n",
        "procedure_count = []\n",
        "\n",
        "for i in range(len(freq_procedures)):\n",
        "    procedure_count.append([])\n",
        "\n",
        "for hadm_id in hadm_ordered:\n",
        "\n",
        "  records = procedures.loc[procedures['hadm_id'] == hadm_id]\n",
        "  record_count = {}\n",
        "  \n",
        "  for label in freq_procedures.label.tolist():\n",
        "    record_count[label] = 0\n",
        "\n",
        "  for _, row in records.iterrows():\n",
        "    record_count[row['label']] += 1\n",
        "\n",
        "  i = 0\n",
        "  for label in freq_procedures.label.tolist():\n",
        "    procedure_count[i].append(record_count[label])\n",
        "    i += 1  \n",
        "\n",
        "i = 0\n",
        "for label in freq_procedures.label.tolist():\n",
        "  feature_data[f'count_{label}'] = procedure_count[i]\n",
        "  i += 1"
      ],
      "metadata": {
        "id": "iuYqPEMAVGsp"
      },
      "execution_count": 73,
      "outputs": []
    },
    {
      "cell_type": "code",
      "source": [
        "# OLD IMPLEMENTATION\n",
        "# Adding information from labtests\n",
        "\n",
        "# for label in freq_labtests.label.tolist():\n",
        "\n",
        "#   for flag in ['abnormal', 'normal']:\n",
        "  \n",
        "#     labtest_count = []\n",
        "    \n",
        "#     for hadm_id in hadm_ordered:\n",
        "      \n",
        "#       count = len(labtests.loc[(labtests['hadm_id'] == hadm_id) & (labtests['flag'] == flag) & (labtests['label'] == label)])\n",
        "#       labtest_count.append(count)\n",
        "    \n",
        "#     feature_data[f'count_{flag}_{label}'] = labtest_count"
      ],
      "metadata": {
        "id": "jE-eZxBjYE4E"
      },
      "execution_count": null,
      "outputs": []
    },
    {
      "cell_type": "code",
      "source": [
        "# Adding information from labtests\n",
        "\n",
        "labtest_count = []\n",
        "\n",
        "for i in range(len(freq_labtests)):\n",
        "    labtest_count.append([])\n",
        "    labtest_count.append([])\n",
        "\n",
        "for hadm_id in hadm_ordered:\n",
        "\n",
        "  records = labtests.loc[labtests['hadm_id'] == hadm_id]\n",
        "  record_count = {}\n",
        "\n",
        "  for label in freq_labtests.label.tolist():\n",
        "    record_count[f'{label}_abnormal'] = 0\n",
        "    record_count[f'{label}_normal'] = 0\n",
        "\n",
        "  for _, row in records.iterrows():\n",
        "    record_count[f\"{row['label']}_{row['flag']}\"] += 1\n",
        "\n",
        "  i = 0\n",
        "  for label in freq_labtests.label.tolist():\n",
        "    labtest_count[i].append(record_count[f'{label}_abnormal'])\n",
        "    labtest_count[i+1].append(record_count[f'{label}_normal'])\n",
        "    i += 2  \n",
        "  \n",
        "i = 0\n",
        "for label in freq_labtests.label.tolist():\n",
        "  feature_data[f'count_abnormal_{label}'] = labtest_count[i]\n",
        "  feature_data[f'count_normal_{label}'] = labtest_count[i+1]\n",
        "  i += 2  "
      ],
      "metadata": {
        "id": "_24ZT_KFetyJ"
      },
      "execution_count": 94,
      "outputs": []
    },
    {
      "cell_type": "markdown",
      "source": [
        "### Preparing Target Data"
      ],
      "metadata": {
        "id": "HNGqEjCe1Wcb"
      }
    },
    {
      "cell_type": "code",
      "source": [
        "# Creating dataframe of ICD9-codes in required order\n",
        "\n",
        "target_data = pd.DataFrame({'icd9_code': pd.Series(dtype=int)})\n",
        "\n",
        "i = 0\n",
        "for hadm_id in hadm_ordered:\n",
        "  target_data.loc[i] = filtered_cardiovascular.loc[filtered_cardiovascular['hadm_id'] == hadm_id].iloc[0]['icd9_code']\n",
        "  i += 1\n",
        "\n",
        "# Keeping only first 3 digits of code\n",
        "target_data['icd9_code'] = target_data['icd9_code'].astype(str).str[:3].astype(int)"
      ],
      "metadata": {
        "id": "VW4i_ORd1Lcr"
      },
      "execution_count": 19,
      "outputs": []
    },
    {
      "cell_type": "markdown",
      "source": [
        "### Define Preprocessing Pipelines"
      ],
      "metadata": {
        "id": "HqNS7LaYcOZT"
      }
    },
    {
      "cell_type": "code",
      "source": [
        "# Defining numerical & categorical features\n",
        "cat_features = ['admission_type', 'gender']\n",
        "num_features = [feature for feature in list(feature_data) if feature not in cat_features]\n",
        "\n",
        "\n",
        "# Creating numerical & categorical pipelines & combining the two\n",
        "num_pipeline = Pipeline([\n",
        "    ('selector', DataFrameSelector(num_features)),\n",
        "    ('std_scaler', StandardScaler())\n",
        "])\n",
        "\n",
        "cat_pipeline = Pipeline([\n",
        "    ('selector', DataFrameSelector(cat_features)),\n",
        "    ('one_hot', OneHotEncoder())\n",
        "])\n",
        "\n",
        "full_pipeline = FeatureUnion(transformer_list=[\n",
        "    (\"num_pipeline\",num_pipeline),\n",
        "    (\"cat_pipeline\",cat_pipeline)\n",
        "])"
      ],
      "metadata": {
        "id": "zaNkRFaOcTOc"
      },
      "execution_count": 22,
      "outputs": []
    },
    {
      "cell_type": "markdown",
      "source": [
        "### Train-Test Split & Apply Pipeline"
      ],
      "metadata": {
        "id": "swlm02rYR1ej"
      }
    },
    {
      "cell_type": "code",
      "source": [
        "train_features, test_features = train_test_split(feature_data, test_size=0.3, random_state=47)\n",
        "train_targets, test_targets = train_test_split(target_data, test_size=0.3, random_state=47) \n",
        "\n",
        "train_features_prep = full_pipeline.fit_transform(train_features)\n",
        "test_features_prep = full_pipeline.fit_transform(test_features)"
      ],
      "metadata": {
        "id": "g4_P3dYsR1FT"
      },
      "execution_count": 23,
      "outputs": []
    },
    {
      "cell_type": "markdown",
      "source": [
        "### Train Model (Linear Regressor)"
      ],
      "metadata": {
        "id": "ro7Sf9Xzwmhg"
      }
    },
    {
      "cell_type": "code",
      "source": [
        "from sklearn.linear_model import LinearRegression\n",
        "\n",
        "lin_reg=LinearRegression()\n",
        "lin_reg.fit(train_features_prep, train_targets)"
      ],
      "metadata": {
        "colab": {
          "base_uri": "https://localhost:8080/",
          "height": 75
        },
        "id": "hBd2meq7wmL5",
        "outputId": "67be8626-796b-44ac-9d92-05df3d69cca0"
      },
      "execution_count": 24,
      "outputs": [
        {
          "output_type": "execute_result",
          "data": {
            "text/plain": [
              "LinearRegression()"
            ],
            "text/html": [
              "<style>#sk-container-id-2 {color: black;background-color: white;}#sk-container-id-2 pre{padding: 0;}#sk-container-id-2 div.sk-toggleable {background-color: white;}#sk-container-id-2 label.sk-toggleable__label {cursor: pointer;display: block;width: 100%;margin-bottom: 0;padding: 0.3em;box-sizing: border-box;text-align: center;}#sk-container-id-2 label.sk-toggleable__label-arrow:before {content: \"▸\";float: left;margin-right: 0.25em;color: #696969;}#sk-container-id-2 label.sk-toggleable__label-arrow:hover:before {color: black;}#sk-container-id-2 div.sk-estimator:hover label.sk-toggleable__label-arrow:before {color: black;}#sk-container-id-2 div.sk-toggleable__content {max-height: 0;max-width: 0;overflow: hidden;text-align: left;background-color: #f0f8ff;}#sk-container-id-2 div.sk-toggleable__content pre {margin: 0.2em;color: black;border-radius: 0.25em;background-color: #f0f8ff;}#sk-container-id-2 input.sk-toggleable__control:checked~div.sk-toggleable__content {max-height: 200px;max-width: 100%;overflow: auto;}#sk-container-id-2 input.sk-toggleable__control:checked~label.sk-toggleable__label-arrow:before {content: \"▾\";}#sk-container-id-2 div.sk-estimator input.sk-toggleable__control:checked~label.sk-toggleable__label {background-color: #d4ebff;}#sk-container-id-2 div.sk-label input.sk-toggleable__control:checked~label.sk-toggleable__label {background-color: #d4ebff;}#sk-container-id-2 input.sk-hidden--visually {border: 0;clip: rect(1px 1px 1px 1px);clip: rect(1px, 1px, 1px, 1px);height: 1px;margin: -1px;overflow: hidden;padding: 0;position: absolute;width: 1px;}#sk-container-id-2 div.sk-estimator {font-family: monospace;background-color: #f0f8ff;border: 1px dotted black;border-radius: 0.25em;box-sizing: border-box;margin-bottom: 0.5em;}#sk-container-id-2 div.sk-estimator:hover {background-color: #d4ebff;}#sk-container-id-2 div.sk-parallel-item::after {content: \"\";width: 100%;border-bottom: 1px solid gray;flex-grow: 1;}#sk-container-id-2 div.sk-label:hover label.sk-toggleable__label {background-color: #d4ebff;}#sk-container-id-2 div.sk-serial::before {content: \"\";position: absolute;border-left: 1px solid gray;box-sizing: border-box;top: 0;bottom: 0;left: 50%;z-index: 0;}#sk-container-id-2 div.sk-serial {display: flex;flex-direction: column;align-items: center;background-color: white;padding-right: 0.2em;padding-left: 0.2em;position: relative;}#sk-container-id-2 div.sk-item {position: relative;z-index: 1;}#sk-container-id-2 div.sk-parallel {display: flex;align-items: stretch;justify-content: center;background-color: white;position: relative;}#sk-container-id-2 div.sk-item::before, #sk-container-id-2 div.sk-parallel-item::before {content: \"\";position: absolute;border-left: 1px solid gray;box-sizing: border-box;top: 0;bottom: 0;left: 50%;z-index: -1;}#sk-container-id-2 div.sk-parallel-item {display: flex;flex-direction: column;z-index: 1;position: relative;background-color: white;}#sk-container-id-2 div.sk-parallel-item:first-child::after {align-self: flex-end;width: 50%;}#sk-container-id-2 div.sk-parallel-item:last-child::after {align-self: flex-start;width: 50%;}#sk-container-id-2 div.sk-parallel-item:only-child::after {width: 0;}#sk-container-id-2 div.sk-dashed-wrapped {border: 1px dashed gray;margin: 0 0.4em 0.5em 0.4em;box-sizing: border-box;padding-bottom: 0.4em;background-color: white;}#sk-container-id-2 div.sk-label label {font-family: monospace;font-weight: bold;display: inline-block;line-height: 1.2em;}#sk-container-id-2 div.sk-label-container {text-align: center;}#sk-container-id-2 div.sk-container {/* jupyter's `normalize.less` sets `[hidden] { display: none; }` but bootstrap.min.css set `[hidden] { display: none !important; }` so we also need the `!important` here to be able to override the default hidden behavior on the sphinx rendered scikit-learn.org. See: https://github.com/scikit-learn/scikit-learn/issues/21755 */display: inline-block !important;position: relative;}#sk-container-id-2 div.sk-text-repr-fallback {display: none;}</style><div id=\"sk-container-id-2\" class=\"sk-top-container\"><div class=\"sk-text-repr-fallback\"><pre>LinearRegression()</pre><b>In a Jupyter environment, please rerun this cell to show the HTML representation or trust the notebook. <br />On GitHub, the HTML representation is unable to render, please try loading this page with nbviewer.org.</b></div><div class=\"sk-container\" hidden><div class=\"sk-item\"><div class=\"sk-estimator sk-toggleable\"><input class=\"sk-toggleable__control sk-hidden--visually\" id=\"sk-estimator-id-2\" type=\"checkbox\" checked><label for=\"sk-estimator-id-2\" class=\"sk-toggleable__label sk-toggleable__label-arrow\">LinearRegression</label><div class=\"sk-toggleable__content\"><pre>LinearRegression()</pre></div></div></div></div></div>"
            ]
          },
          "metadata": {},
          "execution_count": 24
        }
      ]
    },
    {
      "cell_type": "markdown",
      "source": [
        "### Evaluate on Test Set"
      ],
      "metadata": {
        "id": "UOwbqmt_xmcF"
      }
    },
    {
      "cell_type": "code",
      "source": [
        "from sklearn.metrics import mean_squared_error\n",
        "\n",
        "test_predictions = lin_reg.predict(test_features_prep)\n",
        "\n",
        "\n",
        "lin_mse = mean_squared_error(test_targets, test_predictions)\n",
        "lin_rmse=np.sqrt(lin_mse)\n",
        "print(lin_rmse)"
      ],
      "metadata": {
        "colab": {
          "base_uri": "https://localhost:8080/"
        },
        "id": "RuoV0iy5yHIW",
        "outputId": "871f0c1e-fe38-41a7-c1ce-d4d606953961"
      },
      "execution_count": 25,
      "outputs": [
        {
          "output_type": "stream",
          "name": "stdout",
          "text": [
            "11.409074995213295\n"
          ]
        }
      ]
    },
    {
      "cell_type": "markdown",
      "source": [
        "### Throwaway cell"
      ],
      "metadata": {
        "id": "pRiSm66bX0dE"
      }
    },
    {
      "cell_type": "code",
      "source": [
        "# CELL FOR OUTPUTS\n",
        "\n",
        "display(feature_data)"
      ],
      "metadata": {
        "id": "d69QZc2ndzo3"
      },
      "execution_count": null,
      "outputs": []
    },
    {
      "cell_type": "markdown",
      "source": [
        "### Saving Dataframes to Google Drive"
      ],
      "metadata": {
        "id": "h19L83s_S0YD"
      }
    },
    {
      "cell_type": "code",
      "source": [
        "# Saving dataframes to Google Drive\n",
        "\n",
        "cardiovascular.to_csv('cardiovascular.csv', index=False)\n",
        "!cp cardiovascular.csv 'drive/My Drive/comp3931-sc20dpw'\n",
        "\n",
        "filtered_cardiovascular.to_csv('filtered_cardiovascular.csv', index=False)\n",
        "!cp filtered_cardiovascular.csv 'drive/My Drive/comp3931-sc20dpw'\n",
        "\n",
        "admissions.to_csv('admissions.csv', index=False)\n",
        "!cp admissions.csv 'drive/My Drive/comp3931-sc20dpw'\n",
        "\n",
        "discharges.to_csv('discharges.csv', index=False)\n",
        "!cp discharges.csv 'drive/My Drive/comp3931-sc20dpw'\n",
        "\n",
        "procedures.to_csv('procedures.csv', index=False)\n",
        "!cp procedures.csv 'drive/My Drive/comp3931-sc20dpw'\n",
        "\n",
        "freq_procedures.to_csv('freq_procedures.csv', index=False)\n",
        "!cp freq_procedures.csv 'drive/My Drive/comp3931-sc20dpw'\n",
        "\n",
        "labtests.to_csv('labtests.csv', index=False)\n",
        "!cp labtests.csv 'drive/My Drive/comp3931-sc20dpw'\n",
        "\n",
        "freq_labtests.to_csv('freq_labtests.csv', index=False)\n",
        "!cp freq_labtests.csv 'drive/My Drive/comp3931-sc20dpw'\n",
        "\n",
        "if 'hadm_id' not in feature_data.columns:\n",
        "  feature_data.insert(loc=0, column='hadm_id', value=hadm_ordered)\n",
        "feature_data.to_csv('feature_data.csv', index=False)\n",
        "!cp feature_data.csv 'drive/My Drive/comp3931-sc20dpw'\n",
        "\n",
        "target_data.to_csv('target_data.csv', index=False)\n",
        "!cp target_data.csv 'drive/My Drive/comp3931-sc20dpw'"
      ],
      "metadata": {
        "id": "Q_SVLPnlKCAC"
      },
      "execution_count": 96,
      "outputs": []
    }
  ]
}