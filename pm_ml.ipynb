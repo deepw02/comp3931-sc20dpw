{
  "nbformat": 4,
  "nbformat_minor": 0,
  "metadata": {
    "colab": {
      "provenance": [],
      "collapsed_sections": [
        "Ss_iZA7BS__K",
        "-xI1Ry7Ub8Xp",
        "QnAAARhckp9x",
        "rHkAyqgs7fo5",
        "HNGqEjCe1Wcb",
        "HqNS7LaYcOZT",
        "swlm02rYR1ej",
        "ro7Sf9Xzwmhg",
        "UOwbqmt_xmcF"
      ],
      "authorship_tag": "ABX9TyMmorzjIN1KUeBMXQtT69OZ",
      "include_colab_link": true
    },
    "kernelspec": {
      "name": "python3",
      "display_name": "Python 3"
    },
    "language_info": {
      "name": "python"
    },
    "gpuClass": "standard"
  },
  "cells": [
    {
      "cell_type": "markdown",
      "metadata": {
        "id": "view-in-github",
        "colab_type": "text"
      },
      "source": [
        "<a href=\"https://colab.research.google.com/github/deepw02/comp3931-sc20dpw/blob/prepare_train/pm_ml.ipynb\" target=\"_parent\"><img src=\"https://colab.research.google.com/assets/colab-badge.svg\" alt=\"Open In Colab\"/></a>"
      ]
    },
    {
      "cell_type": "markdown",
      "source": [
        "# Process Mining/Machine Learning to Predict Diagnosis ICD codes\n"
      ],
      "metadata": {
        "id": "NZ8XnWN9-HcO"
      }
    },
    {
      "cell_type": "markdown",
      "source": [
        "### Authentication & Connecting to MIMIC-III"
      ],
      "metadata": {
        "id": "A-OFtd7z_Oj8"
      }
    },
    {
      "cell_type": "code",
      "execution_count": 1,
      "metadata": {
        "id": "ZCWeSi3W9zOX",
        "colab": {
          "base_uri": "https://localhost:8080/"
        },
        "outputId": "b57f7737-d6d6-457b-f883-37b75f98ffee"
      },
      "outputs": [
        {
          "output_type": "stream",
          "name": "stdout",
          "text": [
            "Mounted at drive\n"
          ]
        }
      ],
      "source": [
        "from google.colab import auth\n",
        "from google.cloud import bigquery\n",
        "from google.colab import drive\n",
        "\n",
        "import pandas as pd\n",
        "import numpy as np\n",
        "import sys\n",
        "\n",
        "from sklearn.base import BaseEstimator\n",
        "from sklearn.pipeline import Pipeline\n",
        "from sklearn.preprocessing import StandardScaler\n",
        "from sklearn.preprocessing import OneHotEncoder\n",
        "from sklearn.pipeline import FeatureUnion\n",
        "from sklearn.model_selection import train_test_split\n",
        "\n",
        "auth.authenticate_user()\n",
        "client = bigquery.Client(project='physionet-data-369222')\n",
        "drive.mount('drive')"
      ]
    },
    {
      "cell_type": "markdown",
      "source": [
        "### Load Dataframes from Google Drive"
      ],
      "metadata": {
        "id": "Ss_iZA7BS__K"
      }
    },
    {
      "cell_type": "code",
      "source": [
        "cardiovascular = pd.read_csv('drive/My Drive/comp3931-sc20dpw/cardiovascular.csv')\n",
        "filtered_cardiovascular = pd.read_csv('drive/My Drive/comp3931-sc20dpw/filtered_cardiovascular.csv')\n",
        "admissions = pd.read_csv('drive/My Drive/comp3931-sc20dpw/admissions.csv')\n",
        "discharges = pd.read_csv('drive/My Drive/comp3931-sc20dpw/discharges.csv')\n",
        "procedures = pd.read_csv('drive/My Drive/comp3931-sc20dpw/procedures.csv')\n",
        "freq_procedures = pd.read_csv('drive/My Drive/comp3931-sc20dpw/freq_procedures.csv')\n",
        "labtests = pd.read_csv('drive/My Drive/comp3931-sc20dpw/labtests.csv')\n",
        "freq_labtests = pd.read_csv('drive/My Drive/comp3931-sc20dpw/freq_labtests.csv')\n",
        "feature_data = pd.read_csv('drive/My Drive/comp3931-sc20dpw/feature_data.csv')\n",
        "target_data = pd.read_csv('drive/My Drive/comp3931-sc20dpw/target_data.csv')"
      ],
      "metadata": {
        "id": "z7A3L0VOTVWq"
      },
      "execution_count": 2,
      "outputs": []
    },
    {
      "cell_type": "markdown",
      "source": [
        "### Function & Class Definitions"
      ],
      "metadata": {
        "id": "-xI1Ry7Ub8Xp"
      }
    },
    {
      "cell_type": "code",
      "source": [
        "# Function to filter out records where age > 100 during admission\n",
        "\n",
        "def filter_age(df):\n",
        "\n",
        "  filter_age_query = (f'''\n",
        "    SELECT\n",
        "      hadm_id\n",
        "    FROM\n",
        "      physionet-data.mimiciii_clinical.admissions,\n",
        "      physionet-data.mimiciii_clinical.patients\n",
        "    WHERE\n",
        "      admissions.subject_id = patients.subject_id AND\n",
        "      hadm_id in {tuple(df.hadm_id.tolist())} AND\n",
        "      DATE_DIFF(admittime, dob, year) <= 100\n",
        "  ''')\n",
        "\n",
        "  result = client.query(filter_age_query).to_dataframe()\n",
        "\n",
        "  return df[df.hadm_id.isin(result.hadm_id)]"
      ],
      "metadata": {
        "id": "Ugm2oHJrmZpI"
      },
      "execution_count": null,
      "outputs": []
    },
    {
      "cell_type": "code",
      "source": [
        "# Function to filter out records that have don't include any procedures\n",
        "\n",
        "def filter_procedures(df):\n",
        "   \n",
        "  filter_procedures_query = (f'''\n",
        "    SELECT\n",
        "      hadm_id\n",
        "    FROM\n",
        "      physionet-data.mimiciii_clinical.procedureevents_mv\n",
        "    WHERE\n",
        "      hadm_id in {tuple(df.hadm_id.tolist())}\n",
        "    GROUP BY\n",
        "      hadm_id\n",
        "  ''')\n",
        "  \n",
        "  result = client.query(filter_procedures_query).to_dataframe()\n",
        "\n",
        "  return df[df.hadm_id.isin(result.hadm_id)]"
      ],
      "metadata": {
        "id": "LBMUvjRacQkZ"
      },
      "execution_count": null,
      "outputs": []
    },
    {
      "cell_type": "code",
      "source": [
        "# Function to filter out records that have discharge/death before admission\n",
        "\n",
        "def filter_discharges(df):\n",
        "\n",
        "  fiter_discharges_query = (f'''\n",
        "  SELECT \n",
        "    hadm_id\n",
        "  FROM\n",
        "    physionet-data.mimiciii_clinical.admissions\n",
        "  WHERE\n",
        "    hadm_id in {tuple(df.hadm_id.tolist())} AND\n",
        "    dischtime <= admittime\n",
        "  ''')\n",
        "\n",
        "  result = client.query(fiter_discharges_query).to_dataframe()\n",
        "\n",
        "  return df[~df.hadm_id.isin(result.hadm_id)]"
      ],
      "metadata": {
        "id": "niXZqgTLX9p2"
      },
      "execution_count": null,
      "outputs": []
    },
    {
      "cell_type": "code",
      "source": [
        "# CODE TAKEN FROM COMP3611-ML_Pipeline_Part_2.ipynb\n",
        "# Select columns from dataframe needed for preprocessing\n",
        "\n",
        "class DataFrameSelector(BaseEstimator):\n",
        "    \n",
        "    def __init__(self, attribute_names):\n",
        "        self.attribute_names= attribute_names\n",
        "        \n",
        "    def fit(self,X, y = None):\n",
        "        return self\n",
        "    \n",
        "    def transform(self, X):\n",
        "        return X[self.attribute_names].values"
      ],
      "metadata": {
        "id": "Ti0yLY5pZ_4t"
      },
      "execution_count": null,
      "outputs": []
    },
    {
      "cell_type": "markdown",
      "source": [
        "### Event Log Creation"
      ],
      "metadata": {
        "id": "QnAAARhckp9x"
      }
    },
    {
      "cell_type": "code",
      "source": [
        "# Extracting subject_id, hadm_id & ICD-9 codes of cardiovascular patients\n",
        "\n",
        "cardiovascular_query = ('''\n",
        "  SELECT\n",
        "    hadm_id,\n",
        "    subject_id,\n",
        "    icd9_code\n",
        "  FROM\n",
        "    physionet-data.mimiciii_clinical.diagnoses_icd\n",
        "  WHERE\n",
        "    icd9_code BETWEEN '390%' AND '459%' AND\n",
        "    seq_num = 1\n",
        "''')\n",
        "\n",
        "cardiovascular = client.query(cardiovascular_query).to_dataframe()\n",
        "\n",
        "cardiovascular['icd9_code'] = cardiovascular[['icd9_code']].apply(pd.to_numeric)"
      ],
      "metadata": {
        "id": "TvMjPhXakumJ"
      },
      "execution_count": null,
      "outputs": []
    },
    {
      "cell_type": "code",
      "source": [
        "# Filter cardiovascular patient records\n",
        "\n",
        "# Remove records with abnormal ages\n",
        "filtered_cardiovascular = filter_age(cardiovascular)\n",
        "\n",
        "# Remove records without any procedures\n",
        "filtered_cardiovascular = filter_procedures(filtered_cardiovascular)\n",
        "\n",
        "# Remove records with death/discharge before admission\n",
        "filtered_cardiovascular = filter_discharges(filtered_cardiovascular)\n",
        "\n",
        "# Reset dataframe index\n",
        "filtered_cardiovascular = filtered_cardiovascular.reset_index()"
      ],
      "metadata": {
        "id": "LTRBMWHPlqv6"
      },
      "execution_count": null,
      "outputs": []
    },
    {
      "cell_type": "code",
      "source": [
        "# No repetitions\n",
        "hadm_all = tuple((filtered_cardiovascular.hadm_id.tolist()))\n",
        "\n",
        "# DO I NEED SUBJECT IDS?\n",
        "# Contains repetitions\n",
        "# subject_all = tuple(set(filtered_cardiovascular.subject_id.tolist()))\n",
        "\n",
        "# hadm_random\n",
        "# subject_random - AGAIN DO I NEED SUBJECT IDS?\n",
        "\n",
        "hadm_unique = hadm_all\n",
        "# subject_unique = subject_all"
      ],
      "metadata": {
        "id": "lFsj6dlNQjVs"
      },
      "execution_count": 3,
      "outputs": []
    },
    {
      "cell_type": "code",
      "source": [
        "# Creating admissions event log\n",
        "\n",
        "admissions_query = (f'''\n",
        "  SELECT \n",
        "    hadm_id,\n",
        "    \"Admission\" as event,\n",
        "    admittime as timestamp,\n",
        "    admission_type,\n",
        "    DATE_DIFF(admittime, dob, year) as age,\n",
        "    gender\n",
        "  FROM\n",
        "    physionet-data.mimiciii_clinical.admissions,\n",
        "    physionet-data.mimiciii_clinical.patients\n",
        "  WHERE\n",
        "    hadm_id IN {hadm_unique} AND\n",
        "    admissions.subject_id = patients.subject_id\n",
        "''')\n",
        "\n",
        "admissions = client.query(admissions_query).to_dataframe()"
      ],
      "metadata": {
        "id": "wQW61EkTOCeF"
      },
      "execution_count": null,
      "outputs": []
    },
    {
      "cell_type": "code",
      "source": [
        "# Creating discharge/death event log\n",
        "\n",
        "discharges_query = (f'''\n",
        "    SELECT\n",
        "      hadm_id,\n",
        "      IF(deathtime IS NOT NULL, \"Death\", \"Discharge\") as event,\n",
        "      dischtime as timestamp,\n",
        "      IF(deathtime IS NOT NULL, 1, 0) as expire_flag\n",
        "    FROM \n",
        "      physionet-data.mimiciii_clinical.admissions\n",
        "    WHERE\n",
        "    hadm_id IN {hadm_unique}\n",
        "''')\n",
        "\n",
        "discharges = client.query(discharges_query).to_dataframe()"
      ],
      "metadata": {
        "id": "7qhDzhD6p9qU"
      },
      "execution_count": null,
      "outputs": []
    },
    {
      "cell_type": "code",
      "source": [
        "# Query to find n most frequent procedures conducted on cardiovascular patients\n",
        "\n",
        "num_procedures = 3\n",
        "\n",
        "freq_procedures_query = (f'''\n",
        "  SELECT\n",
        "    p.itemid,\n",
        "    COUNT(*) as count_procedures,\n",
        "    LOWER(REPLACE(label, ' ', '_')) as label\n",
        "  FROM\n",
        "    physionet-data.mimiciii_clinical.procedureevents_mv as p,\n",
        "    physionet-data.mimiciii_clinical.d_items as d\n",
        "  WHERE\n",
        "    hadm_id in {hadm_unique} AND\n",
        "    d.itemid = p.itemid\n",
        "  GROUP BY\n",
        "    p.itemid,\n",
        "    label\n",
        "  ORDER BY\n",
        "    count_procedures DESC\n",
        "  LIMIT\n",
        "    {num_procedures}\n",
        "''')\n",
        "\n",
        "freq_procedures = client.query(freq_procedures_query).to_dataframe()"
      ],
      "metadata": {
        "id": "RcmuqDPimCaJ"
      },
      "execution_count": null,
      "outputs": []
    },
    {
      "cell_type": "code",
      "source": [
        "# Creating procedures event log\n",
        "\n",
        "procedures_query = (f'''\n",
        "    SELECT\n",
        "      hadm_id,\n",
        "      \"Procedure\" as event,\n",
        "      starttime as timestamp,\n",
        "      LOWER(REPLACE(label, ' ', '_')) as label\n",
        "    FROM\n",
        "      physionet-data.mimiciii_clinical.procedureevents_mv as p,\n",
        "      physionet-data.mimiciii_clinical.d_items as d\n",
        "    WHERE\n",
        "      hadm_id in {hadm_unique} AND\n",
        "      p.itemid in {tuple(freq_procedures.itemid.tolist())} AND\n",
        "      d.itemid = p.itemid\n",
        "''')\n",
        "\n",
        "procedures = client.query(procedures_query).to_dataframe()"
      ],
      "metadata": {
        "id": "DS5kTf6KWtzu"
      },
      "execution_count": null,
      "outputs": []
    },
    {
      "cell_type": "code",
      "source": [
        "# Query to find n most frequent lab tests conducted on cardiovascular patients\n",
        "\n",
        "num_labtests = 2\n",
        "\n",
        "freq_labtests_query = (f'''\n",
        "  SELECT\n",
        "    lab.itemid,\n",
        "    COUNT(*) as count_labtests,\n",
        "    LOWER(REPLACE(label, ' ', '_')) as label\n",
        "  FROM\n",
        "    physionet-data.mimiciii_clinical.labevents as lab,\n",
        "    physionet-data.mimiciii_clinical.d_labitems as d\n",
        "  WHERE\n",
        "    hadm_id in {hadm_unique} AND\n",
        "    lab.itemid = d.itemid\n",
        "  GROUP BY\n",
        "    lab.itemid,\n",
        "    label\n",
        "  ORDER BY\n",
        "    count_labtests DESC\n",
        "  LIMIT\n",
        "    {num_labtests}\n",
        "''')\n",
        "\n",
        "freq_labtests = client.query(freq_labtests_query).to_dataframe()"
      ],
      "metadata": {
        "id": "J81NdUdNqNEQ"
      },
      "execution_count": null,
      "outputs": []
    },
    {
      "cell_type": "code",
      "source": [
        "# Creating lab tests event log\n",
        "\n",
        "labtests_query = (f'''\n",
        "  SELECT\n",
        "    hadm_id,\n",
        "    \"Labtest\" as event,\n",
        "    charttime as timestamp,\n",
        "    LOWER(REPLACE(label, ' ', '_')) as label,\n",
        "    IF(FLAG = \"abnormal\", \"abnormal\", \"normal\") as flag\n",
        "  FROM\n",
        "    physionet-data.mimiciii_clinical.labevents as lab,\n",
        "    physionet-data.mimiciii_clinical.d_labitems as d\n",
        "  WHERE\n",
        "    hadm_id IN {hadm_unique} AND\n",
        "    lab.itemid = d.itemid AND\n",
        "    lab.itemid IN {tuple(freq_labtests.itemid.tolist())} AND\n",
        "    valuenum IS NOT NULL\n",
        "''')\n",
        "\n",
        "labtests = client.query(labtests_query).to_dataframe()"
      ],
      "metadata": {
        "id": "RKpLBFVClK0H"
      },
      "execution_count": null,
      "outputs": []
    },
    {
      "cell_type": "markdown",
      "source": [
        "### Combining Event Logs"
      ],
      "metadata": {
        "id": "O19Czndd18-e"
      }
    },
    {
      "cell_type": "code",
      "source": [
        "# Checking if admissions & discharges table have hadm_id in the same order\n",
        "\n",
        "def corr_check():\n",
        "\n",
        "  if len(admissions) != len(discharges):\n",
        "    return False\n",
        "\n",
        "  for i in range(len(admissions)):\n",
        "    if admissions.iloc[i].hadm_id != discharges.iloc[i].hadm_id:\n",
        "      return False\n",
        "\n",
        "  return True\n",
        "\n",
        "corr = corr_check()\n",
        "\n",
        "if not corr:\n",
        "  sys.exit()"
      ],
      "metadata": {
        "id": "8tQA2A6qRfxl"
      },
      "execution_count": 3,
      "outputs": []
    },
    {
      "cell_type": "code",
      "source": [
        "# Cell to make life easier when loading dataframes\n",
        "\n",
        "hadm_all = tuple((filtered_cardiovascular.hadm_id.tolist()))\n",
        "\n",
        "hadm_unique = hadm_all\n",
        "\n",
        "freq_procedures_list = freq_procedures.label.tolist()\n",
        "\n",
        "freq_labtests_list = freq_labtests.label.tolist()"
      ],
      "metadata": {
        "id": "97QW6a5bt8EZ"
      },
      "execution_count": 4,
      "outputs": []
    },
    {
      "cell_type": "code",
      "source": [
        "event_log = pd.concat([admissions, procedures, labtests, discharges], ignore_index=True)\n",
        "\n",
        "event_log['timestamp'] = event_log[['timestamp']].apply(pd.to_datetime)\n",
        "\n",
        "event_log.sort_values(['hadm_id', 'timestamp'], inplace=True)\n",
        "\n",
        "event_log.reset_index(drop=True, inplace=True)\n",
        "\n",
        "hadm_ordered = event_log['hadm_id'].unique().tolist()"
      ],
      "metadata": {
        "id": "5kIp81en5XN6"
      },
      "execution_count": 25,
      "outputs": []
    },
    {
      "cell_type": "code",
      "source": [
        "# Removing events after discharge/death\n",
        "\n",
        "discharge_indices = event_log.index[(event_log['event'] == 'Discharge') | (event_log['event'] == 'Death')].tolist()\n",
        "\n",
        "# hadm_ordered & discharge_indices SHOULD BE of same length\n",
        "if len(discharge_indices) != len(hadm_ordered):\n",
        "  sys.exit()\n",
        "\n",
        "# Storing index of discharge/death corresponding to hadm_id\n",
        "discharge_dict = {}\n",
        "for i in range(len(hadm_ordered)):\n",
        "  discharge_dict[hadm_ordered[i]] = discharge_indices[i]\n",
        "\n",
        "\n",
        "offset = 1\n",
        "mask = [True for i in range(len(event_log))]\n",
        "\n",
        "# Building mask to drop rows after death/discharge\n",
        "for hadm_id in discharge_dict:\n",
        "  offset = 1\n",
        "  \n",
        "  while True:\n",
        "    index = discharge_dict[hadm_id] + offset\n",
        "    if index not in event_log.index:\n",
        "      break\n",
        "\n",
        "    row = event_log.loc[index]\n",
        "\n",
        "    if row['hadm_id'] == hadm_id:\n",
        "      mask[index] = False\n",
        "      offset += 1\n",
        "    else:\n",
        "      break\n",
        "\n",
        "  continue\n",
        "\n",
        "# Applying mask to event log and resetting index\n",
        "event_log = event_log[mask]\n",
        "event_log.reset_index(drop=True, inplace=True)"
      ],
      "metadata": {
        "id": "Ix4g32hLu06S"
      },
      "execution_count": 26,
      "outputs": []
    },
    {
      "cell_type": "code",
      "source": [
        "# Counting procedures and labtests for traces with time in event log\n",
        "\n",
        "for procedure in freq_procedures_list:\n",
        "  event_log[f'count_{procedure}'] = 0\n",
        "\n",
        "for labtest in freq_labtests_list:\n",
        "  event_log[f'count_normal_{labtest}'] = 0\n",
        "  event_log[f'count_abnormal_{labtest}'] = 0\n",
        "\n",
        "temp_event_log = pd.DataFrame()\n",
        "\n",
        "count_procedures = {}\n",
        "count_labtests = {}\n",
        "\n",
        "# Count for every hadm_id\n",
        "for hadm_id in hadm_ordered:\n",
        "\n",
        "  for procedure in freq_procedures_list:\n",
        "    count_procedures[f'count_{procedure}'] = 0\n",
        "  for labtest in freq_labtests_list:\n",
        "    count_labtests[f'count_normal_{labtest}'] = 0\n",
        "    count_labtests[f'count_abnormal_{labtest}'] = 0\n",
        "\n",
        "  records = event_log.loc[event_log['hadm_id'] == hadm_id]\n",
        "\n",
        "  # Iterate over all events corresponding to a patient\n",
        "  for index, row in records.iterrows():\n",
        "    if row['label'] in freq_procedures_list:\n",
        "      count_procedures[f\"count_{row['label']}\"] += 1\n",
        "\n",
        "    if row['label'] in freq_labtests_list:\n",
        "      count_labtests[f\"count_{row['flag']}_{row['label']}\"] += 1\n",
        "    \n",
        "    for procedure in freq_procedures_list:\n",
        "      records.at[index, f'count_{procedure}'] = count_procedures[f'count_{procedure}']\n",
        "\n",
        "    for labtest in freq_labtests_list:\n",
        "      records.at[index, f'count_normal_{labtest}'] = count_labtests[f'count_normal_{labtest}']\n",
        "      records.at[index, f'count_abnormal_{labtest}'] = count_labtests[f'count_abnormal_{labtest}']\n",
        "\n",
        "  temp_event_log = pd.concat([temp_event_log, records])\n",
        "\n",
        "event_log = temp_event_log.copy()"
      ],
      "metadata": {
        "id": "ySaPkwbAQ1Zg"
      },
      "execution_count": 27,
      "outputs": []
    },
    {
      "cell_type": "code",
      "source": [
        "# Removing events before admission\n",
        "\n",
        "admission_indices = event_log.index[(event_log['event'] == 'Admission')].tolist()\n",
        "\n",
        "# hadm_ordered & admission_indices SHOULD BE of same length\n",
        "if len(admission_indices) != len(hadm_ordered):\n",
        "  sys.exit()\n",
        "\n",
        "# Storing index of discharge/death corresponding to hadm_id\n",
        "admission_dict = {}\n",
        "for i in range(len(hadm_ordered)):\n",
        "  admission_dict[hadm_ordered[i]] = admission_indices[i]\n",
        "\n",
        "offset = 1\n",
        "mask = [True for i in range(len(event_log))]\n",
        "\n",
        "# Building mask to drop rows before admission\n",
        "for hadm_id in admission_dict:\n",
        "  offset = 1\n",
        "\n",
        "  while True:\n",
        "    index = admission_dict[hadm_id] - offset\n",
        "\n",
        "    if index not in event_log.index:\n",
        "      break\n",
        "\n",
        "    row = event_log.loc[index]\n",
        "\n",
        "    if row['hadm_id'] == hadm_id:\n",
        "      mask[index] = False\n",
        "      offset += 1\n",
        "    else:\n",
        "      break\n",
        "\n",
        "  continue\n",
        "\n",
        "# Applying mask to event log and resetting index\n",
        "event_log = event_log[mask]\n",
        "event_log.reset_index(drop=True, inplace=True)"
      ],
      "metadata": {
        "id": "bi3t4aSmfziY"
      },
      "execution_count": 28,
      "outputs": []
    },
    {
      "cell_type": "code",
      "source": [
        "# Copying repetetive data\n",
        "\n",
        "repetitive_list = ['admission_type', 'age', 'gender']\n",
        "\n",
        "for hadm_id in hadm_ordered:\n",
        "  mask = event_log.hadm_id == hadm_id\n",
        "  for column in repetitive_list:\n",
        "    event_log.loc[mask, column] = event_log[mask].iloc[0][column]"
      ],
      "metadata": {
        "id": "roFd_pD6mRJZ"
      },
      "execution_count": 30,
      "outputs": []
    },
    {
      "cell_type": "code",
      "source": [
        "display(event_log)"
      ],
      "metadata": {
        "colab": {
          "base_uri": "https://localhost:8080/",
          "height": 852
        },
        "id": "sVIDu46FnFmj",
        "outputId": "651b1655-ee27-45dc-df0a-0e167e40e6ee"
      },
      "execution_count": 31,
      "outputs": [
        {
          "output_type": "display_data",
          "data": {
            "text/plain": [
              "        hadm_id      event           timestamp admission_type   age gender  \\\n",
              "0        100009  Admission 2162-05-16 15:56:00      EMERGENCY  61.0      M   \n",
              "1        100009    Labtest 2162-05-16 16:00:00      EMERGENCY  61.0      M   \n",
              "2        100009    Labtest 2162-05-16 16:00:00      EMERGENCY  61.0      M   \n",
              "3        100009    Labtest 2162-05-17 16:10:00      EMERGENCY  61.0      M   \n",
              "4        100009    Labtest 2162-05-17 17:30:00      EMERGENCY  61.0      M   \n",
              "...         ...        ...                 ...            ...   ...    ...   \n",
              "181708   199992    Labtest 2155-02-13 06:20:00      EMERGENCY  86.0      F   \n",
              "181709   199992    Labtest 2155-02-13 06:20:00      EMERGENCY  86.0      F   \n",
              "181710   199992    Labtest 2155-02-14 07:05:00      EMERGENCY  86.0      F   \n",
              "181711   199992    Labtest 2155-02-14 07:05:00      EMERGENCY  86.0      F   \n",
              "181712   199992  Discharge 2155-02-14 14:37:00      EMERGENCY  86.0      F   \n",
              "\n",
              "             label      flag  expire_flag  count_chest_x-ray  count_20_gauge  \\\n",
              "0              NaN       NaN          NaN                  0               0   \n",
              "1        potassium    normal          NaN                  0               0   \n",
              "2       hematocrit    normal          NaN                  0               0   \n",
              "3       hematocrit  abnormal          NaN                  0               0   \n",
              "4        potassium    normal          NaN                  0               0   \n",
              "...            ...       ...          ...                ...             ...   \n",
              "181708   potassium    normal          NaN                  0               1   \n",
              "181709  hematocrit  abnormal          NaN                  0               1   \n",
              "181710   potassium    normal          NaN                  0               1   \n",
              "181711  hematocrit  abnormal          NaN                  0               1   \n",
              "181712         NaN       NaN          0.0                  0               1   \n",
              "\n",
              "        count_ekg  count_normal_potassium  count_abnormal_potassium  \\\n",
              "0               0                       0                         0   \n",
              "1               0                       1                         0   \n",
              "2               0                       1                         0   \n",
              "3               0                       1                         0   \n",
              "4               0                       2                         0   \n",
              "...           ...                     ...                       ...   \n",
              "181708          1                       4                         0   \n",
              "181709          1                       4                         0   \n",
              "181710          1                       5                         0   \n",
              "181711          1                       5                         0   \n",
              "181712          1                       5                         0   \n",
              "\n",
              "        count_normal_hematocrit  count_abnormal_hematocrit  \n",
              "0                             0                          0  \n",
              "1                             0                          0  \n",
              "2                             1                          0  \n",
              "3                             1                          1  \n",
              "4                             1                          1  \n",
              "...                         ...                        ...  \n",
              "181708                        0                          2  \n",
              "181709                        0                          3  \n",
              "181710                        0                          3  \n",
              "181711                        0                          4  \n",
              "181712                        0                          4  \n",
              "\n",
              "[181713 rows x 16 columns]"
            ],
            "text/html": [
              "\n",
              "  <div id=\"df-319af8df-7616-4f18-b786-6e5a52f5fd9c\">\n",
              "    <div class=\"colab-df-container\">\n",
              "      <div>\n",
              "<style scoped>\n",
              "    .dataframe tbody tr th:only-of-type {\n",
              "        vertical-align: middle;\n",
              "    }\n",
              "\n",
              "    .dataframe tbody tr th {\n",
              "        vertical-align: top;\n",
              "    }\n",
              "\n",
              "    .dataframe thead th {\n",
              "        text-align: right;\n",
              "    }\n",
              "</style>\n",
              "<table border=\"1\" class=\"dataframe\">\n",
              "  <thead>\n",
              "    <tr style=\"text-align: right;\">\n",
              "      <th></th>\n",
              "      <th>hadm_id</th>\n",
              "      <th>event</th>\n",
              "      <th>timestamp</th>\n",
              "      <th>admission_type</th>\n",
              "      <th>age</th>\n",
              "      <th>gender</th>\n",
              "      <th>label</th>\n",
              "      <th>flag</th>\n",
              "      <th>expire_flag</th>\n",
              "      <th>count_chest_x-ray</th>\n",
              "      <th>count_20_gauge</th>\n",
              "      <th>count_ekg</th>\n",
              "      <th>count_normal_potassium</th>\n",
              "      <th>count_abnormal_potassium</th>\n",
              "      <th>count_normal_hematocrit</th>\n",
              "      <th>count_abnormal_hematocrit</th>\n",
              "    </tr>\n",
              "  </thead>\n",
              "  <tbody>\n",
              "    <tr>\n",
              "      <th>0</th>\n",
              "      <td>100009</td>\n",
              "      <td>Admission</td>\n",
              "      <td>2162-05-16 15:56:00</td>\n",
              "      <td>EMERGENCY</td>\n",
              "      <td>61.0</td>\n",
              "      <td>M</td>\n",
              "      <td>NaN</td>\n",
              "      <td>NaN</td>\n",
              "      <td>NaN</td>\n",
              "      <td>0</td>\n",
              "      <td>0</td>\n",
              "      <td>0</td>\n",
              "      <td>0</td>\n",
              "      <td>0</td>\n",
              "      <td>0</td>\n",
              "      <td>0</td>\n",
              "    </tr>\n",
              "    <tr>\n",
              "      <th>1</th>\n",
              "      <td>100009</td>\n",
              "      <td>Labtest</td>\n",
              "      <td>2162-05-16 16:00:00</td>\n",
              "      <td>EMERGENCY</td>\n",
              "      <td>61.0</td>\n",
              "      <td>M</td>\n",
              "      <td>potassium</td>\n",
              "      <td>normal</td>\n",
              "      <td>NaN</td>\n",
              "      <td>0</td>\n",
              "      <td>0</td>\n",
              "      <td>0</td>\n",
              "      <td>1</td>\n",
              "      <td>0</td>\n",
              "      <td>0</td>\n",
              "      <td>0</td>\n",
              "    </tr>\n",
              "    <tr>\n",
              "      <th>2</th>\n",
              "      <td>100009</td>\n",
              "      <td>Labtest</td>\n",
              "      <td>2162-05-16 16:00:00</td>\n",
              "      <td>EMERGENCY</td>\n",
              "      <td>61.0</td>\n",
              "      <td>M</td>\n",
              "      <td>hematocrit</td>\n",
              "      <td>normal</td>\n",
              "      <td>NaN</td>\n",
              "      <td>0</td>\n",
              "      <td>0</td>\n",
              "      <td>0</td>\n",
              "      <td>1</td>\n",
              "      <td>0</td>\n",
              "      <td>1</td>\n",
              "      <td>0</td>\n",
              "    </tr>\n",
              "    <tr>\n",
              "      <th>3</th>\n",
              "      <td>100009</td>\n",
              "      <td>Labtest</td>\n",
              "      <td>2162-05-17 16:10:00</td>\n",
              "      <td>EMERGENCY</td>\n",
              "      <td>61.0</td>\n",
              "      <td>M</td>\n",
              "      <td>hematocrit</td>\n",
              "      <td>abnormal</td>\n",
              "      <td>NaN</td>\n",
              "      <td>0</td>\n",
              "      <td>0</td>\n",
              "      <td>0</td>\n",
              "      <td>1</td>\n",
              "      <td>0</td>\n",
              "      <td>1</td>\n",
              "      <td>1</td>\n",
              "    </tr>\n",
              "    <tr>\n",
              "      <th>4</th>\n",
              "      <td>100009</td>\n",
              "      <td>Labtest</td>\n",
              "      <td>2162-05-17 17:30:00</td>\n",
              "      <td>EMERGENCY</td>\n",
              "      <td>61.0</td>\n",
              "      <td>M</td>\n",
              "      <td>potassium</td>\n",
              "      <td>normal</td>\n",
              "      <td>NaN</td>\n",
              "      <td>0</td>\n",
              "      <td>0</td>\n",
              "      <td>0</td>\n",
              "      <td>2</td>\n",
              "      <td>0</td>\n",
              "      <td>1</td>\n",
              "      <td>1</td>\n",
              "    </tr>\n",
              "    <tr>\n",
              "      <th>...</th>\n",
              "      <td>...</td>\n",
              "      <td>...</td>\n",
              "      <td>...</td>\n",
              "      <td>...</td>\n",
              "      <td>...</td>\n",
              "      <td>...</td>\n",
              "      <td>...</td>\n",
              "      <td>...</td>\n",
              "      <td>...</td>\n",
              "      <td>...</td>\n",
              "      <td>...</td>\n",
              "      <td>...</td>\n",
              "      <td>...</td>\n",
              "      <td>...</td>\n",
              "      <td>...</td>\n",
              "      <td>...</td>\n",
              "    </tr>\n",
              "    <tr>\n",
              "      <th>181708</th>\n",
              "      <td>199992</td>\n",
              "      <td>Labtest</td>\n",
              "      <td>2155-02-13 06:20:00</td>\n",
              "      <td>EMERGENCY</td>\n",
              "      <td>86.0</td>\n",
              "      <td>F</td>\n",
              "      <td>potassium</td>\n",
              "      <td>normal</td>\n",
              "      <td>NaN</td>\n",
              "      <td>0</td>\n",
              "      <td>1</td>\n",
              "      <td>1</td>\n",
              "      <td>4</td>\n",
              "      <td>0</td>\n",
              "      <td>0</td>\n",
              "      <td>2</td>\n",
              "    </tr>\n",
              "    <tr>\n",
              "      <th>181709</th>\n",
              "      <td>199992</td>\n",
              "      <td>Labtest</td>\n",
              "      <td>2155-02-13 06:20:00</td>\n",
              "      <td>EMERGENCY</td>\n",
              "      <td>86.0</td>\n",
              "      <td>F</td>\n",
              "      <td>hematocrit</td>\n",
              "      <td>abnormal</td>\n",
              "      <td>NaN</td>\n",
              "      <td>0</td>\n",
              "      <td>1</td>\n",
              "      <td>1</td>\n",
              "      <td>4</td>\n",
              "      <td>0</td>\n",
              "      <td>0</td>\n",
              "      <td>3</td>\n",
              "    </tr>\n",
              "    <tr>\n",
              "      <th>181710</th>\n",
              "      <td>199992</td>\n",
              "      <td>Labtest</td>\n",
              "      <td>2155-02-14 07:05:00</td>\n",
              "      <td>EMERGENCY</td>\n",
              "      <td>86.0</td>\n",
              "      <td>F</td>\n",
              "      <td>potassium</td>\n",
              "      <td>normal</td>\n",
              "      <td>NaN</td>\n",
              "      <td>0</td>\n",
              "      <td>1</td>\n",
              "      <td>1</td>\n",
              "      <td>5</td>\n",
              "      <td>0</td>\n",
              "      <td>0</td>\n",
              "      <td>3</td>\n",
              "    </tr>\n",
              "    <tr>\n",
              "      <th>181711</th>\n",
              "      <td>199992</td>\n",
              "      <td>Labtest</td>\n",
              "      <td>2155-02-14 07:05:00</td>\n",
              "      <td>EMERGENCY</td>\n",
              "      <td>86.0</td>\n",
              "      <td>F</td>\n",
              "      <td>hematocrit</td>\n",
              "      <td>abnormal</td>\n",
              "      <td>NaN</td>\n",
              "      <td>0</td>\n",
              "      <td>1</td>\n",
              "      <td>1</td>\n",
              "      <td>5</td>\n",
              "      <td>0</td>\n",
              "      <td>0</td>\n",
              "      <td>4</td>\n",
              "    </tr>\n",
              "    <tr>\n",
              "      <th>181712</th>\n",
              "      <td>199992</td>\n",
              "      <td>Discharge</td>\n",
              "      <td>2155-02-14 14:37:00</td>\n",
              "      <td>EMERGENCY</td>\n",
              "      <td>86.0</td>\n",
              "      <td>F</td>\n",
              "      <td>NaN</td>\n",
              "      <td>NaN</td>\n",
              "      <td>0.0</td>\n",
              "      <td>0</td>\n",
              "      <td>1</td>\n",
              "      <td>1</td>\n",
              "      <td>5</td>\n",
              "      <td>0</td>\n",
              "      <td>0</td>\n",
              "      <td>4</td>\n",
              "    </tr>\n",
              "  </tbody>\n",
              "</table>\n",
              "<p>181713 rows × 16 columns</p>\n",
              "</div>\n",
              "      <button class=\"colab-df-convert\" onclick=\"convertToInteractive('df-319af8df-7616-4f18-b786-6e5a52f5fd9c')\"\n",
              "              title=\"Convert this dataframe to an interactive table.\"\n",
              "              style=\"display:none;\">\n",
              "        \n",
              "  <svg xmlns=\"http://www.w3.org/2000/svg\" height=\"24px\"viewBox=\"0 0 24 24\"\n",
              "       width=\"24px\">\n",
              "    <path d=\"M0 0h24v24H0V0z\" fill=\"none\"/>\n",
              "    <path d=\"M18.56 5.44l.94 2.06.94-2.06 2.06-.94-2.06-.94-.94-2.06-.94 2.06-2.06.94zm-11 1L8.5 8.5l.94-2.06 2.06-.94-2.06-.94L8.5 2.5l-.94 2.06-2.06.94zm10 10l.94 2.06.94-2.06 2.06-.94-2.06-.94-.94-2.06-.94 2.06-2.06.94z\"/><path d=\"M17.41 7.96l-1.37-1.37c-.4-.4-.92-.59-1.43-.59-.52 0-1.04.2-1.43.59L10.3 9.45l-7.72 7.72c-.78.78-.78 2.05 0 2.83L4 21.41c.39.39.9.59 1.41.59.51 0 1.02-.2 1.41-.59l7.78-7.78 2.81-2.81c.8-.78.8-2.07 0-2.86zM5.41 20L4 18.59l7.72-7.72 1.47 1.35L5.41 20z\"/>\n",
              "  </svg>\n",
              "      </button>\n",
              "      \n",
              "  <style>\n",
              "    .colab-df-container {\n",
              "      display:flex;\n",
              "      flex-wrap:wrap;\n",
              "      gap: 12px;\n",
              "    }\n",
              "\n",
              "    .colab-df-convert {\n",
              "      background-color: #E8F0FE;\n",
              "      border: none;\n",
              "      border-radius: 50%;\n",
              "      cursor: pointer;\n",
              "      display: none;\n",
              "      fill: #1967D2;\n",
              "      height: 32px;\n",
              "      padding: 0 0 0 0;\n",
              "      width: 32px;\n",
              "    }\n",
              "\n",
              "    .colab-df-convert:hover {\n",
              "      background-color: #E2EBFA;\n",
              "      box-shadow: 0px 1px 2px rgba(60, 64, 67, 0.3), 0px 1px 3px 1px rgba(60, 64, 67, 0.15);\n",
              "      fill: #174EA6;\n",
              "    }\n",
              "\n",
              "    [theme=dark] .colab-df-convert {\n",
              "      background-color: #3B4455;\n",
              "      fill: #D2E3FC;\n",
              "    }\n",
              "\n",
              "    [theme=dark] .colab-df-convert:hover {\n",
              "      background-color: #434B5C;\n",
              "      box-shadow: 0px 1px 3px 1px rgba(0, 0, 0, 0.15);\n",
              "      filter: drop-shadow(0px 1px 2px rgba(0, 0, 0, 0.3));\n",
              "      fill: #FFFFFF;\n",
              "    }\n",
              "  </style>\n",
              "\n",
              "      <script>\n",
              "        const buttonEl =\n",
              "          document.querySelector('#df-319af8df-7616-4f18-b786-6e5a52f5fd9c button.colab-df-convert');\n",
              "        buttonEl.style.display =\n",
              "          google.colab.kernel.accessAllowed ? 'block' : 'none';\n",
              "\n",
              "        async function convertToInteractive(key) {\n",
              "          const element = document.querySelector('#df-319af8df-7616-4f18-b786-6e5a52f5fd9c');\n",
              "          const dataTable =\n",
              "            await google.colab.kernel.invokeFunction('convertToInteractive',\n",
              "                                                     [key], {});\n",
              "          if (!dataTable) return;\n",
              "\n",
              "          const docLinkHtml = 'Like what you see? Visit the ' +\n",
              "            '<a target=\"_blank\" href=https://colab.research.google.com/notebooks/data_table.ipynb>data table notebook</a>'\n",
              "            + ' to learn more about interactive tables.';\n",
              "          element.innerHTML = '';\n",
              "          dataTable['output_type'] = 'display_data';\n",
              "          await google.colab.output.renderOutput(dataTable, element);\n",
              "          const docLink = document.createElement('div');\n",
              "          docLink.innerHTML = docLinkHtml;\n",
              "          element.appendChild(docLink);\n",
              "        }\n",
              "      </script>\n",
              "    </div>\n",
              "  </div>\n",
              "  "
            ]
          },
          "metadata": {}
        }
      ]
    },
    {
      "cell_type": "code",
      "source": [
        "# Keep this cell it's very useful\n",
        "\n",
        "count = 0\n",
        "myset = set()\n",
        "\n",
        "for hadm_id in hadm_ordered:\n",
        "  records = event_log.loc[event_log['hadm_id'] == hadm_id]\n",
        "  # if records.iloc[-1].loc['event'] != 'Discharge' and records.iloc[-1].loc['event'] != 'Death':\n",
        "  if records.iloc[0].loc['event'] != 'Admission':\n",
        "\n",
        "    # count += 1\n",
        "\n",
        "    # record_admittime = records.loc[records['event'] == \"Admission\"].iloc[0].loc[\"timestamp\"]\n",
        "    # record_firstlabtime = records.iloc[0].loc[\"timestamp\"]\n",
        "\n",
        "    # time_delta = record_admittime.date() - record_firstlabtime.date()\n",
        "    # time_delta = record_admittime.hour - record_firstlabtime.hour\n",
        "\n",
        "    # time_deltas.append(time_delta.days)\n",
        "\n",
        "    # display(records)\n",
        "\n",
        "    # # print(time_delta)\n",
        "    # print(\"---------\")\n",
        "    # print(\"\")\n",
        "\n",
        "    # if records.iloc[0].loc['event'] not in myset:\n",
        "    myset.add(records.iloc[0].loc['event'])\n",
        "    #   display(records)\n",
        "    #   print(\"---------\")\n",
        "\n",
        "# print(time_deltas)\n",
        "\n",
        "\n",
        "\n",
        "# print(count)\n",
        "\n",
        "for ele in myset:\n",
        "  print(ele)\n",
        "  print(\"---------\")\n",
        "  \n",
        "\n",
        "# count = 0\n",
        "\n",
        "# for hadm_id in hadm_ordered:\n",
        "#   records = event_log.loc[event_log['hadm_id'] == hadm_id]\n",
        "\n",
        "#   a_type = records.iloc[0].loc['admission_type']\n",
        "#   age = records.iloc[0].loc['age']\n",
        "#   gender = records.iloc[0].loc['gender']\n",
        "\n",
        "#   print(a_type)\n",
        "#   print(age)\n",
        "#   print(gender)\n",
        "#   print(\"-----\")\n",
        "\n",
        "#   if count == 3:\n",
        "#     break\n",
        "#   count += 1\n",
        "\n",
        "\n",
        "# display(event_log.head(50))"
      ],
      "metadata": {
        "id": "BHU-Lzhj18U2"
      },
      "execution_count": null,
      "outputs": []
    },
    {
      "cell_type": "markdown",
      "source": [
        "### Old Cells"
      ],
      "metadata": {
        "id": "rHkAyqgs7fo5"
      }
    },
    {
      "cell_type": "code",
      "source": [
        "# Adding information from admissions & discharges\n",
        "\n",
        "# feature_data = pd.merge(admissions[['hadm_id', 'timestamp', 'admission_type', 'age', 'gender']], discharges[['hadm_id', 'timestamp', 'expire_flag']], on=['hadm_id'], how='inner')\n",
        "\n",
        "# feature_data['timestamp_x'] = feature_data[['timestamp_x']].apply(pd.to_datetime)\n",
        "# feature_data['timestamp_y'] = feature_data[['timestamp_y']].apply(pd.to_datetime)\n",
        "\n",
        "\n",
        "# # Keeping only hour of admission & discharge\n",
        "# feature_data['timestamp_x'] = feature_data['timestamp_x'].dt.hour\n",
        "# feature_data['timestamp_y'] = feature_data['timestamp_y'].dt.hour\n",
        "\n",
        "# feature_data.rename(columns={\"timestamp_x\": \"admit_hour\", \"timestamp_y\": \"disch_hour\"}, inplace=True, errors=\"raise\")"
      ],
      "metadata": {
        "id": "441SOL5IW8Q9"
      },
      "execution_count": null,
      "outputs": []
    },
    {
      "cell_type": "code",
      "source": [
        "# Storing order of hadm_id's in feature_data in a list & dropping from table\n",
        "\n",
        "# hadm_ordered = feature_data.hadm_id.tolist()\n",
        "\n",
        "# if 'hadm_id' in feature_data.columns:\n",
        "#   feature_data.drop(columns=['hadm_id'], inplace=True)"
      ],
      "metadata": {
        "id": "ZkrlHl4LUJNC"
      },
      "execution_count": null,
      "outputs": []
    },
    {
      "cell_type": "code",
      "source": [
        "# Adding information from procedures\n",
        "\n",
        "# procedure_count = []\n",
        "\n",
        "# for i in range(len(freq_procedures)):\n",
        "#     procedure_count.append([])\n",
        "\n",
        "# for hadm_id in hadm_ordered:\n",
        "\n",
        "#   records = procedures.loc[procedures['hadm_id'] == hadm_id]\n",
        "#   record_count = {}\n",
        "  \n",
        "#   for label in freq_procedures.label.tolist():\n",
        "#     record_count[label] = 0\n",
        "\n",
        "#   for _, row in records.iterrows():\n",
        "#     record_count[row['label']] += 1\n",
        "\n",
        "#   i = 0\n",
        "#   for label in freq_procedures.label.tolist():\n",
        "#     procedure_count[i].append(record_count[label])\n",
        "#     i += 1  \n",
        "\n",
        "# i = 0\n",
        "# for label in freq_procedures.label.tolist():\n",
        "#   feature_data[f'count_{label}'] = procedure_count[i]\n",
        "#   i += 1"
      ],
      "metadata": {
        "id": "iuYqPEMAVGsp"
      },
      "execution_count": null,
      "outputs": []
    },
    {
      "cell_type": "code",
      "source": [
        "# Adding information from labtests\n",
        "\n",
        "# labtest_count = []\n",
        "\n",
        "# for i in range(len(freq_labtests)):\n",
        "#     labtest_count.append([])\n",
        "#     labtest_count.append([])\n",
        "\n",
        "# for hadm_id in hadm_ordered:\n",
        "\n",
        "#   records = labtests.loc[labtests['hadm_id'] == hadm_id]\n",
        "#   record_count = {}\n",
        "\n",
        "#   for label in freq_labtests.label.tolist():\n",
        "#     record_count[f'{label}_abnormal'] = 0\n",
        "#     record_count[f'{label}_normal'] = 0\n",
        "\n",
        "#   for _, row in records.iterrows():\n",
        "#     record_count[f\"{row['label']}_{row['flag']}\"] += 1\n",
        "\n",
        "#   i = 0\n",
        "#   for label in freq_labtests.label.tolist():\n",
        "#     labtest_count[i].append(record_count[f'{label}_abnormal'])\n",
        "#     labtest_count[i+1].append(record_count[f'{label}_normal'])\n",
        "#     i += 2  \n",
        "  \n",
        "# i = 0\n",
        "# for label in freq_labtests.label.tolist():\n",
        "#   feature_data[f'count_abnormal_{label}'] = labtest_count[i]\n",
        "#   feature_data[f'count_normal_{label}'] = labtest_count[i+1]\n",
        "#   i += 2  "
      ],
      "metadata": {
        "id": "_24ZT_KFetyJ"
      },
      "execution_count": null,
      "outputs": []
    },
    {
      "cell_type": "markdown",
      "source": [
        "### Preparing Target Data"
      ],
      "metadata": {
        "id": "HNGqEjCe1Wcb"
      }
    },
    {
      "cell_type": "code",
      "source": [
        "# Creating dataframe of ICD9-codes in required order\n",
        "\n",
        "target_data = pd.DataFrame({'icd9_code': pd.Series(dtype=int)})\n",
        "\n",
        "i = 0\n",
        "for hadm_id in hadm_ordered:\n",
        "  target_data.loc[i] = filtered_cardiovascular.loc[filtered_cardiovascular['hadm_id'] == hadm_id].iloc[0]['icd9_code']\n",
        "  i += 1\n",
        "\n",
        "# Keeping only first 3 digits of code\n",
        "target_data['icd9_code'] = target_data['icd9_code'].astype(str).str[:3].astype(int)"
      ],
      "metadata": {
        "id": "VW4i_ORd1Lcr"
      },
      "execution_count": null,
      "outputs": []
    },
    {
      "cell_type": "markdown",
      "source": [
        "### Define Preprocessing Pipelines"
      ],
      "metadata": {
        "id": "HqNS7LaYcOZT"
      }
    },
    {
      "cell_type": "code",
      "source": [
        "# Defining numerical & categorical features\n",
        "cat_features = ['admission_type', 'gender']\n",
        "num_features = [feature for feature in list(feature_data) if feature not in cat_features]\n",
        "\n",
        "\n",
        "# Creating numerical & categorical pipelines & combining the two\n",
        "num_pipeline = Pipeline([\n",
        "    ('selector', DataFrameSelector(num_features)),\n",
        "    ('std_scaler', StandardScaler())\n",
        "])\n",
        "\n",
        "cat_pipeline = Pipeline([\n",
        "    ('selector', DataFrameSelector(cat_features)),\n",
        "    ('one_hot', OneHotEncoder())\n",
        "])\n",
        "\n",
        "full_pipeline = FeatureUnion(transformer_list=[\n",
        "    (\"num_pipeline\",num_pipeline),\n",
        "    (\"cat_pipeline\",cat_pipeline)\n",
        "])"
      ],
      "metadata": {
        "id": "zaNkRFaOcTOc"
      },
      "execution_count": null,
      "outputs": []
    },
    {
      "cell_type": "markdown",
      "source": [
        "### Train-Test Split & Apply Pipeline"
      ],
      "metadata": {
        "id": "swlm02rYR1ej"
      }
    },
    {
      "cell_type": "code",
      "source": [
        "train_features, test_features = train_test_split(feature_data, test_size=0.3, random_state=47)\n",
        "train_targets, test_targets = train_test_split(target_data, test_size=0.3, random_state=47) \n",
        "\n",
        "train_features_prep = full_pipeline.fit_transform(train_features)\n",
        "test_features_prep = full_pipeline.fit_transform(test_features)"
      ],
      "metadata": {
        "id": "g4_P3dYsR1FT"
      },
      "execution_count": null,
      "outputs": []
    },
    {
      "cell_type": "markdown",
      "source": [
        "### Train Model (Linear Regressor)"
      ],
      "metadata": {
        "id": "ro7Sf9Xzwmhg"
      }
    },
    {
      "cell_type": "code",
      "source": [
        "from sklearn.linear_model import LinearRegression\n",
        "\n",
        "lin_reg=LinearRegression()\n",
        "lin_reg.fit(train_features_prep, train_targets)"
      ],
      "metadata": {
        "colab": {
          "base_uri": "https://localhost:8080/",
          "height": 75
        },
        "id": "hBd2meq7wmL5",
        "outputId": "67be8626-796b-44ac-9d92-05df3d69cca0"
      },
      "execution_count": null,
      "outputs": [
        {
          "output_type": "execute_result",
          "data": {
            "text/plain": [
              "LinearRegression()"
            ],
            "text/html": [
              "<style>#sk-container-id-2 {color: black;background-color: white;}#sk-container-id-2 pre{padding: 0;}#sk-container-id-2 div.sk-toggleable {background-color: white;}#sk-container-id-2 label.sk-toggleable__label {cursor: pointer;display: block;width: 100%;margin-bottom: 0;padding: 0.3em;box-sizing: border-box;text-align: center;}#sk-container-id-2 label.sk-toggleable__label-arrow:before {content: \"▸\";float: left;margin-right: 0.25em;color: #696969;}#sk-container-id-2 label.sk-toggleable__label-arrow:hover:before {color: black;}#sk-container-id-2 div.sk-estimator:hover label.sk-toggleable__label-arrow:before {color: black;}#sk-container-id-2 div.sk-toggleable__content {max-height: 0;max-width: 0;overflow: hidden;text-align: left;background-color: #f0f8ff;}#sk-container-id-2 div.sk-toggleable__content pre {margin: 0.2em;color: black;border-radius: 0.25em;background-color: #f0f8ff;}#sk-container-id-2 input.sk-toggleable__control:checked~div.sk-toggleable__content {max-height: 200px;max-width: 100%;overflow: auto;}#sk-container-id-2 input.sk-toggleable__control:checked~label.sk-toggleable__label-arrow:before {content: \"▾\";}#sk-container-id-2 div.sk-estimator input.sk-toggleable__control:checked~label.sk-toggleable__label {background-color: #d4ebff;}#sk-container-id-2 div.sk-label input.sk-toggleable__control:checked~label.sk-toggleable__label {background-color: #d4ebff;}#sk-container-id-2 input.sk-hidden--visually {border: 0;clip: rect(1px 1px 1px 1px);clip: rect(1px, 1px, 1px, 1px);height: 1px;margin: -1px;overflow: hidden;padding: 0;position: absolute;width: 1px;}#sk-container-id-2 div.sk-estimator {font-family: monospace;background-color: #f0f8ff;border: 1px dotted black;border-radius: 0.25em;box-sizing: border-box;margin-bottom: 0.5em;}#sk-container-id-2 div.sk-estimator:hover {background-color: #d4ebff;}#sk-container-id-2 div.sk-parallel-item::after {content: \"\";width: 100%;border-bottom: 1px solid gray;flex-grow: 1;}#sk-container-id-2 div.sk-label:hover label.sk-toggleable__label {background-color: #d4ebff;}#sk-container-id-2 div.sk-serial::before {content: \"\";position: absolute;border-left: 1px solid gray;box-sizing: border-box;top: 0;bottom: 0;left: 50%;z-index: 0;}#sk-container-id-2 div.sk-serial {display: flex;flex-direction: column;align-items: center;background-color: white;padding-right: 0.2em;padding-left: 0.2em;position: relative;}#sk-container-id-2 div.sk-item {position: relative;z-index: 1;}#sk-container-id-2 div.sk-parallel {display: flex;align-items: stretch;justify-content: center;background-color: white;position: relative;}#sk-container-id-2 div.sk-item::before, #sk-container-id-2 div.sk-parallel-item::before {content: \"\";position: absolute;border-left: 1px solid gray;box-sizing: border-box;top: 0;bottom: 0;left: 50%;z-index: -1;}#sk-container-id-2 div.sk-parallel-item {display: flex;flex-direction: column;z-index: 1;position: relative;background-color: white;}#sk-container-id-2 div.sk-parallel-item:first-child::after {align-self: flex-end;width: 50%;}#sk-container-id-2 div.sk-parallel-item:last-child::after {align-self: flex-start;width: 50%;}#sk-container-id-2 div.sk-parallel-item:only-child::after {width: 0;}#sk-container-id-2 div.sk-dashed-wrapped {border: 1px dashed gray;margin: 0 0.4em 0.5em 0.4em;box-sizing: border-box;padding-bottom: 0.4em;background-color: white;}#sk-container-id-2 div.sk-label label {font-family: monospace;font-weight: bold;display: inline-block;line-height: 1.2em;}#sk-container-id-2 div.sk-label-container {text-align: center;}#sk-container-id-2 div.sk-container {/* jupyter's `normalize.less` sets `[hidden] { display: none; }` but bootstrap.min.css set `[hidden] { display: none !important; }` so we also need the `!important` here to be able to override the default hidden behavior on the sphinx rendered scikit-learn.org. See: https://github.com/scikit-learn/scikit-learn/issues/21755 */display: inline-block !important;position: relative;}#sk-container-id-2 div.sk-text-repr-fallback {display: none;}</style><div id=\"sk-container-id-2\" class=\"sk-top-container\"><div class=\"sk-text-repr-fallback\"><pre>LinearRegression()</pre><b>In a Jupyter environment, please rerun this cell to show the HTML representation or trust the notebook. <br />On GitHub, the HTML representation is unable to render, please try loading this page with nbviewer.org.</b></div><div class=\"sk-container\" hidden><div class=\"sk-item\"><div class=\"sk-estimator sk-toggleable\"><input class=\"sk-toggleable__control sk-hidden--visually\" id=\"sk-estimator-id-2\" type=\"checkbox\" checked><label for=\"sk-estimator-id-2\" class=\"sk-toggleable__label sk-toggleable__label-arrow\">LinearRegression</label><div class=\"sk-toggleable__content\"><pre>LinearRegression()</pre></div></div></div></div></div>"
            ]
          },
          "metadata": {},
          "execution_count": 24
        }
      ]
    },
    {
      "cell_type": "markdown",
      "source": [
        "### Evaluate on Test Set"
      ],
      "metadata": {
        "id": "UOwbqmt_xmcF"
      }
    },
    {
      "cell_type": "code",
      "source": [
        "from sklearn.metrics import mean_squared_error\n",
        "\n",
        "test_predictions = lin_reg.predict(test_features_prep)\n",
        "\n",
        "\n",
        "lin_mse = mean_squared_error(test_targets, test_predictions)\n",
        "lin_rmse=np.sqrt(lin_mse)\n",
        "print(lin_rmse)"
      ],
      "metadata": {
        "colab": {
          "base_uri": "https://localhost:8080/"
        },
        "id": "RuoV0iy5yHIW",
        "outputId": "871f0c1e-fe38-41a7-c1ce-d4d606953961"
      },
      "execution_count": null,
      "outputs": [
        {
          "output_type": "stream",
          "name": "stdout",
          "text": [
            "11.409074995213295\n"
          ]
        }
      ]
    },
    {
      "cell_type": "markdown",
      "source": [
        "### Throwaway cell"
      ],
      "metadata": {
        "id": "pRiSm66bX0dE"
      }
    },
    {
      "cell_type": "code",
      "source": [
        "# CELL FOR OUTPUTS\n",
        "\n",
        "display(feature_data)"
      ],
      "metadata": {
        "id": "d69QZc2ndzo3",
        "colab": {
          "base_uri": "https://localhost:8080/",
          "height": 34
        },
        "outputId": "4bcc0e3e-7029-4448-d125-f5c61a455848"
      },
      "execution_count": 37,
      "outputs": [
        {
          "output_type": "display_data",
          "data": {
            "text/plain": [
              "False"
            ]
          },
          "metadata": {}
        }
      ]
    },
    {
      "cell_type": "markdown",
      "source": [
        "### Saving Dataframes to Google Drive"
      ],
      "metadata": {
        "id": "h19L83s_S0YD"
      }
    },
    {
      "cell_type": "code",
      "source": [
        "# Saving dataframes to Google Drive\n",
        "\n",
        "cardiovascular.to_csv('cardiovascular.csv', index=False)\n",
        "!cp cardiovascular.csv 'drive/My Drive/comp3931-sc20dpw'\n",
        "\n",
        "filtered_cardiovascular.to_csv('filtered_cardiovascular.csv', index=False)\n",
        "!cp filtered_cardiovascular.csv 'drive/My Drive/comp3931-sc20dpw'\n",
        "\n",
        "admissions.to_csv('admissions.csv', index=False)\n",
        "!cp admissions.csv 'drive/My Drive/comp3931-sc20dpw'\n",
        "\n",
        "discharges.to_csv('discharges.csv', index=False)\n",
        "!cp discharges.csv 'drive/My Drive/comp3931-sc20dpw'\n",
        "\n",
        "procedures.to_csv('procedures.csv', index=False)\n",
        "!cp procedures.csv 'drive/My Drive/comp3931-sc20dpw'\n",
        "\n",
        "freq_procedures.to_csv('freq_procedures.csv', index=False)\n",
        "!cp freq_procedures.csv 'drive/My Drive/comp3931-sc20dpw'\n",
        "\n",
        "labtests.to_csv('labtests.csv', index=False)\n",
        "!cp labtests.csv 'drive/My Drive/comp3931-sc20dpw'\n",
        "\n",
        "freq_labtests.to_csv('freq_labtests.csv', index=False)\n",
        "!cp freq_labtests.csv 'drive/My Drive/comp3931-sc20dpw'\n",
        "\n",
        "event_log.to_csv('event_log.csv', index=False)\n",
        "!cp event_log.csv 'drive/My Drive/comp3931-sc20dpw'\n",
        "\n",
        "if 'hadm_id' not in feature_data.columns:\n",
        "  feature_data.insert(loc=0, column='hadm_id', value=hadm_ordered)\n",
        "feature_data.to_csv('feature_data.csv', index=False)\n",
        "!cp feature_data.csv 'drive/My Drive/comp3931-sc20dpw'\n",
        "\n",
        "target_data.to_csv('target_data.csv', index=False)\n",
        "!cp target_data.csv 'drive/My Drive/comp3931-sc20dpw'"
      ],
      "metadata": {
        "id": "Q_SVLPnlKCAC"
      },
      "execution_count": 32,
      "outputs": []
    }
  ]
}